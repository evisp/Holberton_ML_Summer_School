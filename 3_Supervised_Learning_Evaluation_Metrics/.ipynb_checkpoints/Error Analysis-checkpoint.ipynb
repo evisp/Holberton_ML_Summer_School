{
 "cells": [
  {
   "cell_type": "markdown",
   "id": "c154e574",
   "metadata": {},
   "source": [
    "<img src=\"../holberton_logo.png\" alt=\"logo\" width=\"500\"/>\n",
    "\n",
    "# Error Analysis\n",
    "\n",
    "Evaluation measures are essential for **estimating the performance of machine learning models**. They help understand how well a model performs on new data and how accurately it predicts outcomes. \n",
    "\n",
    "\n",
    "These measures provide **quantifiable insights** into the model's effectiveness, guiding decisions on model selection, refinement, and deployment. \n",
    "\n",
    "\n",
    "Without thorough evaluation, it's challenging to determine if a model meets its objectivess.\n",
    "\n",
    "## What is the confusion matrix?\n",
    "\n",
    "The **confusion matrix is a key tool for error analysis in machine learning**. It is a matrix that shows the number of correct and incorrect predictions made by a classification model on a dataset. The matrix is usually represented as a table with rows and columns representing the predicted and actual classes, respectively.\n",
    "\n",
    "<img src=\"figs/confusion.png\" alt=\"logo\" width=\"500\"/>\n",
    "\n",
    "The four possible outcomes in a binary classification problem are:\n",
    "\n",
    "1. **True Positive (TP)**: when the model correctly predicts a positive example (i.e., it correctly identifies the presence of a particular class)\n",
    "\n",
    "\n",
    "2. **False Positive (FP)**: when the model incorrectly predicts a positive example (i.e., it identifies the presence of a particular class when it is not actually present)\n",
    "\n",
    "\n",
    "3. **True Negative (TN)**: when the model correctly predicts a negative example (i.e., it correctly identifies the absence of a particular class)\n",
    "\n",
    "\n",
    "4. **False Negative (FN)**: when the model incorrectly predicts a negative example (i.e., it fails to identify the presence of a particular class)\n",
    "\n",
    "#### Example: Binary Classification (dog vs cat)\n",
    "\n",
    "|             | Actual Dog   | Actual Cat   |\n",
    "|-------------|--------------|--------------|\n",
    "| Predicted Dog   | True Positive (TP)   | False Positive (FP)   |\n",
    "| Predicted Cat   | False Negative (FN)  | True Negative (TN)    |\n",
    "\n",
    "\n",
    "## What is type I error? type II?\n",
    "\n",
    "Type I and Type II errors are two types of errors that can occur in hypothesis testing.\n",
    "\n",
    "\n",
    "- **Type I error**, also known as a **false positive**, occurs when a hypothesis that is actually true is rejected based on sample data. In other words, it is the error of concluding that there is a significant effect or difference when in reality there is none. The probability of making a Type I error is denoted by the Greek letter alpha ($\\alpha$)\n",
    "\n",
    "\n",
    "\n",
    "- **Type II error**, also known as a **false negative**, occurs when a hypothesis that is actually false is not rejected based on sample data. In other words, it is the error of failing to detect a significant effect or difference when one actually exists. The probability of making a Type II error is denoted by the Greek letter beta ($\\beta$), and is affected by factors such as the sample size, the magnitude of the effect being tested, and the level of statistical significance chosen for the test.\n",
    "\n",
    "**Example**\n",
    "\n",
    "Type I error (False Positive): This occurs when the model predicts a sample as positive (dog) when it is actually negative (cat).\n",
    "\n",
    "Type II error (False Negative): This occurs when the model predicts a sample as negative (cat) when it is actually positive (dog). \n",
    "\n",
    "<img src=\"figs/errors.png\" alt=\"logo\" width=\"500\"/>\n",
    "\n",
    "\n",
    "Both Type I and Type II errors can have serious consequences, depending on the context in which the hypothesis testing is being conducted. For example, in medical testing, a Type I error could lead to a patient being diagnosed with a condition they do not have, while a Type II error could lead to a patient being given a clean bill of health when they actually have the condition.\n",
    "\n",
    "## What is sensitivity? specificity? precision? recall?\n",
    "\n",
    "Sensitivity, specificity, precision, and recall are all metrics commonly used to evaluate the performance of a classification model. These metrics are particularly important in cases where the positive and negative classes are not evenly distributed in the dataset.\n",
    "\n",
    "- **Sensitivity** (also known as recall or true positive rate): **measures the proportion of actual positive instances that are correctly identified by the model**. It is calculated as \n",
    "\n",
    "$$\n",
    "\\frac{TP}{TP + FN}\n",
    "$$\n",
    "- `TP` is the number of true positives \n",
    "- `FN` is the number of false negatives.\n",
    "\n",
    "Sensitivity is an important metric when the goal is to minimize false negatives (i.e., to avoid missing positive instances).\n",
    "\n",
    "\n",
    "- **Specificity** (also known as true negative rate): measures the proportion of actual negative instances that are correctly identified by the model. It is calculated as\n",
    "$$\n",
    "\\frac{TN}{TN + FP}\n",
    "$$\n",
    "\n",
    "- `TN` is the number of true negatives  \n",
    "- `FP` is the number of false positives. \n",
    "\n",
    "Specificity is an important metric when the goal is to minimize false positives (i.e., to avoid labeling negative instances as positive).\n",
    "\n",
    "- **Precision** (also known as positive predictive value): measures the proportion of instances that are correctly classified as positive out of all instances predicted as positive. It is calculated as \n",
    "$$\n",
    "\\frac{TP}{TP + FP}\n",
    "$$\n",
    "\n",
    "- `TP` is the number of true positives \n",
    "- `FP` is the number of false positives. \n",
    "\n",
    "Precision is an important metric when the goal is to minimize false positives (i.e., to avoid labeling negative instances as positive).\n",
    "\n",
    "- **Recall** (also known as sensitivity): measures the proportion of actual positive instances that are correctly identified by the model out of all actual positive instances. It is calculated as \n",
    "$$\n",
    "\\frac{TP}{TP + FN}\n",
    "$$\n",
    "\n",
    "- `TP` is the number of true positives \n",
    "- `FP` is the number of false negatives. \n",
    "\n",
    "Recall is an important metric when the goal is to minimize false negatives (i.e., to avoid missing positive instances).\n",
    "\n",
    "In general, high sensitivity and high specificity are desirable, but in some cases, there may be a trade-off between these two metrics. Precision is also important when there is a high cost associated with false positives, while recall is important when there is a high cost associated with false negatives.\n",
    "\n",
    "### Example\n",
    "\n",
    "- **Sensitivity** (True Positive Rate): This is the proportion of actual positives (dogs) that are correctly identified as positive by the model. For example, if the model correctly identifies 90 out of 100 dogs in the dataset, the sensitivity would be 0.9 or 90%.\n",
    "\n",
    "\n",
    "- **Specificity** (True Negative Rate): This is the proportion of actual negatives (cats) that are correctly identified as negative by the model. For example, if the model correctly identifies 85 out of 100 cats in the dataset, the specificity would be 0.85 or 85%.\n",
    "\n",
    "\n",
    "- **Recall** (also known as Sensitivity): This is the proportion of true positives (dogs) that are correctly identified by the model out of all actual positives. For example, if the model correctly identifies 90 out of 100 dogs in the dataset, the recall would be 0.9 or 90%.\n",
    "\n",
    "\n",
    "- **Precision**: This is the proportion of true positives (dogs) that are correctly identified by the model out of all samples predicted as positive by the model. For example, if the model identifies 95 samples as dogs, and 90 of them are actually dogs, the precision would be 0.947 or 94.7%.\n",
    "\n",
    "\n",
    "- **Accuracy**: This is the proportion of all samples that are correctly classified by the model. It is calculated as the sum of true positives and true negatives divided by the total number of samples. For example, if the model correctly identifies 90 dogs and 85 cats out of a total of 200 samples, the accuracy would be (90 + 85) / 200 = 0.875 or 87.5%.\n",
    "\n",
    "## What is an F1 score?\n",
    "\n",
    "The `F1` score is a common metric used to evaluate the performance of a classification model. It is the harmonic mean of precision and recall, and is calculated as \n",
    "\n",
    "$$\n",
    "\\frac{2 \\cdot (precision \\cdot recall)}{precison + recall}\n",
    "$$\n",
    "\n",
    "The `F1` score takes into account both precision and recall, and is a useful metric when the positive and negative classes are not evenly distributed in the dataset. It is particularly useful when the goal is to balance both precision and recall, as it gives equal weight to both metrics.\n",
    "\n",
    "A high `F1` score indicates that the model has both high precision and high recall, meaning it is able to correctly identify positive instances while avoiding false positives and false negatives. A low `F1` score indicates that the model may be biased towards one metric over the other, and may need to be adjusted or improved.\n",
    "\n",
    "In general, the `F1` score is a good metric to use when the positive class is rare or when there is an imbalance in the number of positive and negative instances in the dataset. However, it is important to note that the `F1` score does not take into account the true negatives, and may not be the best metric to use in cases where the negative class is also important. \n",
    "\n",
    "## What is bias? variance?\n",
    "\n",
    "Bias and variance are two important concepts in machine learning that describe the properties of a model and its ability to generalize to new data.\n",
    "\n",
    "- **Bias** refers to the tendency of a model to consistently make systematic errors in its predictions, regardless of the training data. **A model with high bias may oversimplify the problem and make assumptions that are not valid for the data**. Such a model may underfit the data and have low accuracy on both the training and test sets.\n",
    "\n",
    "\n",
    "- **Variance** refers to the tendency of a model to be overly sensitive to the noise or randomness in the training data, leading to high variability in its predictions. **A model with high variance may overfit the training data and perform well on the training set**, but have poor generalization to new data.\n",
    "\n",
    "<img src=\"figs/biasvariance.png\" alt=\"logo\" width=\"350\"/>\n",
    "\n",
    "\n",
    "The **bias-variance tradeoff** is a key concept in machine learning, as it describes the tradeoff between these two properties. A model with high complexity (e.g., a deep neural network with many parameters) may have low bias but high variance, while a model with low complexity (e.g., a linear regression model) may have low variance but high bias. The goal is to find the right balance between bias and variance to achieve good performance on both the training and test sets.\n",
    "\n",
    "Regularization techniques such as L1 and L2 regularization, dropout, and early stopping can be used to reduce variance and prevent overfitting, while techniques such as feature engineering and ensemble learning can be used to reduce bias and improve the model's accuracy.\n",
    "\n",
    "**Example**\n",
    "\n",
    "- **Low bias, low variance**: A model that fits the training data well and generalizes well to new data. It has both low training and test error. This is the ideal situation.\n",
    "\n",
    "\n",
    "- **Low bias, high variance**: A model that fits the training data well but does not generalize well to new data. It has low training error but high test error. This is often caused by overfitting, where the model is too complex and captures noise in the training data.\n",
    "\n",
    "\n",
    "- **High bias, low variance**: A model that does not fit the training data well and does not generalize well to new data. It has high training error and high test error. This is often caused by underfitting, where the model is too simple and cannot capture the underlying patterns in the data.\n",
    "\n",
    "\n",
    "- **High bias, high variance**: A model that has both high training error and high test error. This is caused by a combination of underfitting and overfitting, where the model is both too simple and too complex at the same time. This is often seen in models with high complexity but insufficient data.\n",
    "\n",
    "\n",
    "## What is irreducible error?\n",
    "\n",
    "Irreducible error, also known as noise, is a type of error that cannot be reduced by improving the model or by increasing the amount of training data. It represents the inherent variability or randomness in the data that is beyond the control of the model.\n",
    "\n",
    "Irreducible error arises from many sources, such as measurement errors, natural variations in the data, or unpredictable events that affect the target variable. It is also influenced by external factors that are not included in the model, such as environmental factors, social and economic conditions, and human behavior.\n",
    "\n",
    "Since irreducible error cannot be reduced by the model, the best way to deal with it is to minimize its impact by collecting high-quality data, using appropriate preprocessing techniques, and selecting appropriate features that are relevant to the problem. In addition, it is important to acknowledge the existence of irreducible error and to evaluate the performance of the model in terms of its ability to capture the underlying patterns in the data while minimizing the impact of the noise.\n",
    "\n",
    "\n",
    "## What is Bayes error?\n",
    "\n",
    "Bayes error, also known as the **irreducible error**, is the **minimum possible error rate that can be achieved by any classifier for a given classification task**. It represents the lowest possible error rate that can be achieved, regardless of the complexity of the model or the amount of training data available.\n",
    "\n",
    "Bayes error **is calculated based on the true underlying distribution of the data and assumes that the features are independent and identically distributed**. It takes into account the inherent variability in the data and the presence of noise and uncertainties that cannot be eliminated by any classifier.\n",
    "\n",
    "*In practice, it is impossible to achieve Bayes error for most real-world classification tasks, as the true underlying distribution of the data is often unknown or cannot be fully captured by the available data*. However, Bayes error provides a useful benchmark for evaluating the performance of a classifier and assessing its potential for improvement.\n",
    "\n",
    "*The gap between the Bayes error and the actual error rate achieved by a classifier is known as the Bayes risk or the Bayes-optimality gap*. The goal of machine learning is to develop models that can minimize this gap and achieve as low an error rate as possible, given the available data and computational resources.\n",
    "\n",
    "\n",
    "## How can you approximate Bayes error?\n",
    "\n",
    "Approximating the Bayes error can be challenging because it requires knowledge of the true underlying distribution of the data, which is often unknown or difficult to estimate. However, there are several methods that can be used to approximate the Bayes error, including:\n",
    "\n",
    "1. **Cross-validation**: Cross-validation is a popular method for estimating the performance of a classifier. By using a portion of the data for training and the rest for testing, it is possible to estimate the error rate of the classifier. The cross-validation error rate is a good approximation of the true error rate when the data is representative of the true underlying distribution.\n",
    "\n",
    "\n",
    "2. **Ensemble methods**: Ensemble methods such as bagging, boosting, and random forests can be used to improve the accuracy of a classifier and reduce the error rate. By combining multiple classifiers and taking a majority vote, these methods can reduce the impact of noise and uncertainties in the data, and improve the accuracy of the classification.\n",
    "\n",
    "\n",
    "3. **Human-level performance**: In some cases, the Bayes error can be approximated by estimating the performance of a human expert on the same classification task. This can provide an upper bound on the performance of the classifier and help assess its potential for improvement.\n",
    "\n",
    "\n",
    "It is important to note that these methods provide only an approximation of the Bayes error, and the actual error rate achieved by a classifier may be higher or lower depending on the complexity of the problem and the quality of the data. Nevertheless, these methods can provide a useful tool for evaluating and improving the performance of machine learning models.\n",
    "\n",
    "## How to calculate bias and variance\n",
    "\n",
    "**The bias of a model measures the average difference between the predicted value and the true value of the target variable over different training sets**. It reflects the ability of the model to capture the true relationship between the input features and the target variable. *A model with high bias underfits the data*, meaning it is too simple and does not capture the underlying patterns in the data. *A model with low bias overfits the data*, meaning it is too complex and captures the noise in the data as well as the underlying patterns.\n",
    "\n",
    "To calculate the bias of a model, we can train the model on multiple training sets and measure the average difference between the predicted values and the true values on a validation set. The bias is calculated as:\n",
    "\n",
    "$$\n",
    "Bias = E[Predicted - True]\n",
    "$$\n",
    "\n",
    "where `E` is the expected value operator and Predicted and True are the predicted and true values of the target variable, respectively.\n",
    "\n",
    "**The variance of a model measures the variability of the predicted values over different training sets**. It reflects the *sensitivity of the model to changes in the training data*. *A model with high variance is sensitive to small changes in the training data and may overfit the data. A model with low variance is less sensitive to changes in the training data and may underfit the data*.\n",
    "\n",
    "To calculate the variance of a model, we can train the model on multiple training sets and measure the variance of the predicted values on a validation set. The variance is calculated as:\n",
    "\n",
    "$$\n",
    "Variance = E[(Predicted - E[Predicted])^2]\n",
    "$$\n",
    "\n",
    "## How to create a confusion matrix\n",
    "\n",
    "Creating a confusion matrix involves counting the number of true positive, true negative, false positive, and false negative predictions made by a machine learning model on a set of data. A confusion matrix is a useful tool for evaluating the performance of a binary classification model. Here's a step-by-step guide to creating a confusion matrix:\n",
    "\n",
    "1. Define the true labels and predicted labels for the data.\n",
    "\n",
    "2. Count the number of true positive (`TP`), true negative (`TN`), false positive (`FP`), and false negative (`FN`) predictions.\n",
    "\n",
    "3. Create a `2x2` matrix to represent the counts.\n",
    "\n",
    "4. Label the rows and columns of the matrix with \"`Actual`\" and \"`Predicted`\" labels, respectively.\n",
    "\n",
    "5. Fill in the matrix with the counts"
   ]
  },
  {
   "cell_type": "markdown",
   "id": "b17a4a2d",
   "metadata": {},
   "source": [
    "## Example: Error Analysis through MNIST Dataset"
   ]
  },
  {
   "cell_type": "markdown",
   "id": "47cb7fc8",
   "metadata": {},
   "source": [
    "### Import Libraries\n",
    "\n",
    "First, we import the essential libraries. \n",
    "\n",
    "- `NumPy` is used for numerical operations\n",
    "\n",
    "- `TensorFlow` provides machine learning capabilities \n",
    "\n",
    "- `Scikit-learn`'s metrics module enables the calculation of performance metrics such as **confusion matrices** and **classification reports**. \n",
    "\n",
    "\n",
    "Confusion matrices summarize the true and predicted class labels, while classification reports offer a detailed breakdown of `precision, recall, F1-score`, and support for each class. "
   ]
  },
  {
   "cell_type": "code",
   "execution_count": 1,
   "id": "839684fe",
   "metadata": {},
   "outputs": [],
   "source": [
    "from keras.datasets import mnist\n",
    "from sklearn.linear_model import LogisticRegression\n",
    "from sklearn.metrics import confusion_matrix, precision_score, recall_score, f1_score\n"
   ]
  },
  {
   "cell_type": "markdown",
   "id": "dc3a9c2e",
   "metadata": {},
   "source": [
    "### Load MNIST Dataset \n",
    "\n",
    "Next, we load the MNIST dataset, containing handwritten digit images and their corresponding labels, into **training** and **testing** sets. \n",
    "\n",
    "We then reshape the images into one-dimensional arrays to prepare them for model training and evaluation."
   ]
  },
  {
   "cell_type": "code",
   "execution_count": 2,
   "id": "e2fec31c",
   "metadata": {},
   "outputs": [],
   "source": [
    "# Load the MNIST dataset\n",
    "(X_train, y_train), (X_test, y_test) = mnist.load_data()\n",
    "\n",
    "# Reshape the images into a 1D array\n",
    "X_train = X_train.reshape(X_train.shape[0], -1)\n",
    "X_test = X_test.reshape(X_test.shape[0], -1)"
   ]
  },
  {
   "cell_type": "markdown",
   "id": "77ba18ff",
   "metadata": {},
   "source": [
    "### Build and Train a Logistic Regression Model\n",
    "\n",
    "Then, we initialize a logistic regression model and fits it to the training data. \n",
    "\n",
    "Logistic regression is a type of regression analysis used for predicting the probability of a categorical outcome. In this case, it's used for **multi-class classification** of handwritten digits in the MNIST dataset. \n",
    "\n",
    "\n",
    "- The `max_iter` parameter specifies the maximum number of iterations taken for the solver to converge."
   ]
  },
  {
   "cell_type": "code",
   "execution_count": 3,
   "id": "6f5373b9",
   "metadata": {},
   "outputs": [
    {
     "name": "stderr",
     "output_type": "stream",
     "text": [
      "C:\\Users\\evisp\\anaconda3\\Lib\\site-packages\\sklearn\\linear_model\\_logistic.py:460: ConvergenceWarning: lbfgs failed to converge (status=1):\n",
      "STOP: TOTAL NO. of ITERATIONS REACHED LIMIT.\n",
      "\n",
      "Increase the number of iterations (max_iter) or scale the data as shown in:\n",
      "    https://scikit-learn.org/stable/modules/preprocessing.html\n",
      "Please also refer to the documentation for alternative solver options:\n",
      "    https://scikit-learn.org/stable/modules/linear_model.html#logistic-regression\n",
      "  n_iter_i = _check_optimize_result(\n"
     ]
    },
    {
     "data": {
      "text/html": [
       "<style>#sk-container-id-1 {color: black;}#sk-container-id-1 pre{padding: 0;}#sk-container-id-1 div.sk-toggleable {background-color: white;}#sk-container-id-1 label.sk-toggleable__label {cursor: pointer;display: block;width: 100%;margin-bottom: 0;padding: 0.3em;box-sizing: border-box;text-align: center;}#sk-container-id-1 label.sk-toggleable__label-arrow:before {content: \"▸\";float: left;margin-right: 0.25em;color: #696969;}#sk-container-id-1 label.sk-toggleable__label-arrow:hover:before {color: black;}#sk-container-id-1 div.sk-estimator:hover label.sk-toggleable__label-arrow:before {color: black;}#sk-container-id-1 div.sk-toggleable__content {max-height: 0;max-width: 0;overflow: hidden;text-align: left;background-color: #f0f8ff;}#sk-container-id-1 div.sk-toggleable__content pre {margin: 0.2em;color: black;border-radius: 0.25em;background-color: #f0f8ff;}#sk-container-id-1 input.sk-toggleable__control:checked~div.sk-toggleable__content {max-height: 200px;max-width: 100%;overflow: auto;}#sk-container-id-1 input.sk-toggleable__control:checked~label.sk-toggleable__label-arrow:before {content: \"▾\";}#sk-container-id-1 div.sk-estimator input.sk-toggleable__control:checked~label.sk-toggleable__label {background-color: #d4ebff;}#sk-container-id-1 div.sk-label input.sk-toggleable__control:checked~label.sk-toggleable__label {background-color: #d4ebff;}#sk-container-id-1 input.sk-hidden--visually {border: 0;clip: rect(1px 1px 1px 1px);clip: rect(1px, 1px, 1px, 1px);height: 1px;margin: -1px;overflow: hidden;padding: 0;position: absolute;width: 1px;}#sk-container-id-1 div.sk-estimator {font-family: monospace;background-color: #f0f8ff;border: 1px dotted black;border-radius: 0.25em;box-sizing: border-box;margin-bottom: 0.5em;}#sk-container-id-1 div.sk-estimator:hover {background-color: #d4ebff;}#sk-container-id-1 div.sk-parallel-item::after {content: \"\";width: 100%;border-bottom: 1px solid gray;flex-grow: 1;}#sk-container-id-1 div.sk-label:hover label.sk-toggleable__label {background-color: #d4ebff;}#sk-container-id-1 div.sk-serial::before {content: \"\";position: absolute;border-left: 1px solid gray;box-sizing: border-box;top: 0;bottom: 0;left: 50%;z-index: 0;}#sk-container-id-1 div.sk-serial {display: flex;flex-direction: column;align-items: center;background-color: white;padding-right: 0.2em;padding-left: 0.2em;position: relative;}#sk-container-id-1 div.sk-item {position: relative;z-index: 1;}#sk-container-id-1 div.sk-parallel {display: flex;align-items: stretch;justify-content: center;background-color: white;position: relative;}#sk-container-id-1 div.sk-item::before, #sk-container-id-1 div.sk-parallel-item::before {content: \"\";position: absolute;border-left: 1px solid gray;box-sizing: border-box;top: 0;bottom: 0;left: 50%;z-index: -1;}#sk-container-id-1 div.sk-parallel-item {display: flex;flex-direction: column;z-index: 1;position: relative;background-color: white;}#sk-container-id-1 div.sk-parallel-item:first-child::after {align-self: flex-end;width: 50%;}#sk-container-id-1 div.sk-parallel-item:last-child::after {align-self: flex-start;width: 50%;}#sk-container-id-1 div.sk-parallel-item:only-child::after {width: 0;}#sk-container-id-1 div.sk-dashed-wrapped {border: 1px dashed gray;margin: 0 0.4em 0.5em 0.4em;box-sizing: border-box;padding-bottom: 0.4em;background-color: white;}#sk-container-id-1 div.sk-label label {font-family: monospace;font-weight: bold;display: inline-block;line-height: 1.2em;}#sk-container-id-1 div.sk-label-container {text-align: center;}#sk-container-id-1 div.sk-container {/* jupyter's `normalize.less` sets `[hidden] { display: none; }` but bootstrap.min.css set `[hidden] { display: none !important; }` so we also need the `!important` here to be able to override the default hidden behavior on the sphinx rendered scikit-learn.org. See: https://github.com/scikit-learn/scikit-learn/issues/21755 */display: inline-block !important;position: relative;}#sk-container-id-1 div.sk-text-repr-fallback {display: none;}</style><div id=\"sk-container-id-1\" class=\"sk-top-container\"><div class=\"sk-text-repr-fallback\"><pre>LogisticRegression()</pre><b>In a Jupyter environment, please rerun this cell to show the HTML representation or trust the notebook. <br />On GitHub, the HTML representation is unable to render, please try loading this page with nbviewer.org.</b></div><div class=\"sk-container\" hidden><div class=\"sk-item\"><div class=\"sk-estimator sk-toggleable\"><input class=\"sk-toggleable__control sk-hidden--visually\" id=\"sk-estimator-id-1\" type=\"checkbox\" checked><label for=\"sk-estimator-id-1\" class=\"sk-toggleable__label sk-toggleable__label-arrow\">LogisticRegression</label><div class=\"sk-toggleable__content\"><pre>LogisticRegression()</pre></div></div></div></div></div>"
      ],
      "text/plain": [
       "LogisticRegression()"
      ]
     },
     "execution_count": 3,
     "metadata": {},
     "output_type": "execute_result"
    }
   ],
   "source": [
    "# Train a logistic regression model\n",
    "model = LogisticRegression(max_iter=100)\n",
    "model.fit(X_train, y_train)"
   ]
  },
  {
   "cell_type": "markdown",
   "id": "94d80208",
   "metadata": {},
   "source": [
    "### Make Predictions on Test Dataset\n",
    "\n",
    "Once the model is trained, we can use it to generate predictions for the test data using"
   ]
  },
  {
   "cell_type": "code",
   "execution_count": 4,
   "id": "8c297c15",
   "metadata": {},
   "outputs": [],
   "source": [
    "# Make predictions\n",
    "y_pred = model.predict(X_test)"
   ]
  },
  {
   "cell_type": "markdown",
   "id": "c36c25e8",
   "metadata": {},
   "source": [
    "### Summary of Results\n",
    "\n",
    "#### Confusion matrix\n",
    "\n",
    "The **confusion matrix** is a table that summarizes the performance of a classification model. It shows the counts of \n",
    "\n",
    "- true positive (TP)\n",
    "\n",
    "- true negative (TN)\n",
    "\n",
    "- false positive (FP)\n",
    "\n",
    "- false negative (FN) \n",
    "\n",
    "\n",
    "The **rows represent the actual classes**, while the **columns represent the predicted classes**. \n",
    "\n",
    "\n",
    "In our context, `confusion_matrix(y_test, y_pred)` calculates the confusion matrix using the true labels (`y_test`) and the predicted labels (`y_pred`) of our logistic regression model"
   ]
  },
  {
   "cell_type": "code",
   "execution_count": 5,
   "id": "6b538b3f",
   "metadata": {},
   "outputs": [
    {
     "name": "stdout",
     "output_type": "stream",
     "text": [
      "Confusion Matrix:\n",
      "[[ 963    0    0    3    1    3    4    4    2    0]\n",
      " [   0 1112    4    2    0    1    3    2   11    0]\n",
      " [   3   10  926   15    6    4   15    8   42    3]\n",
      " [   4    1   21  916    1   26    3    9   22    7]\n",
      " [   1    1    7    3  910    0    9    7   10   34]\n",
      " [  11    2    1   33   11  776   11    6   35    6]\n",
      " [   9    3    7    3    7   16  910    2    1    0]\n",
      " [   1    6   24    5    7    1    0  951    3   30]\n",
      " [   8    7    6   23    6   26   10   10  869    9]\n",
      " [   9    7    0   11   25    6    0   22    7  922]]\n"
     ]
    }
   ],
   "source": [
    "# Calculate the confusion matrix\n",
    "cm = confusion_matrix(y_test, y_pred)\n",
    "print(\"Confusion Matrix:\")\n",
    "print(cm)"
   ]
  },
  {
   "cell_type": "markdown",
   "id": "079fba48",
   "metadata": {},
   "source": [
    "\n",
    "#### Visualization of Confusion matrix\n",
    "\n",
    "Often times, we visualize the evaluation metric for classification models as a heatmap. \n",
    "**Each cell represents the count of predictions for a specific combination of true and predicted labels**. This visualization allows for a quick assessment of the model's classification performance across different categories"
   ]
  },
  {
   "cell_type": "code",
   "execution_count": 6,
   "id": "8f7d9c07",
   "metadata": {},
   "outputs": [
    {
     "data": {
      "image/png": "[encoded data removed]",
      "text/plain": [
       "<Figure size 800x600 with 2 Axes>"
      ]
     },
     "metadata": {},
     "output_type": "display_data"
    }
   ],
   "source": [
    "import matplotlib.pyplot as plt\n",
    "import seaborn as sns\n",
    "\n",
    "# Calculate the confusion matrix\n",
    "cm = confusion_matrix(y_test, y_pred)\n",
    "\n",
    "# Plot the confusion matrix as a heatmap\n",
    "plt.figure(figsize=(8, 6))\n",
    "sns.heatmap(cm, annot=True, cmap='Blues', fmt='g')\n",
    "plt.xlabel('Predicted labels')\n",
    "plt.ylabel('True labels')\n",
    "plt.title('Confusion Matrix')\n",
    "plt.show()\n"
   ]
  },
  {
   "cell_type": "markdown",
   "id": "39da3afc",
   "metadata": {},
   "source": [
    "#### Precision, Recall, F-1 Score\n",
    "\n",
    "To get a better understanding of results, we can calculate other measures of evaluation\n",
    "\n",
    "- Precision measures the accuracy of positive predictions\n",
    "\n",
    "- Recall measures the model's ability to identify all relevant instances\n",
    "\n",
    "- F1 score provides a balance between precision and recall. \n",
    "\n",
    "\n",
    "These metrics are computed for each class and then averaged to provide an overall assessment of the model's performance."
   ]
  },
  {
   "cell_type": "code",
   "execution_count": 7,
   "id": "355a50d9",
   "metadata": {},
   "outputs": [
    {
     "name": "stdout",
     "output_type": "stream",
     "text": [
      "Precision: 0.9254726808703972\n",
      "Recall: 0.9255\n",
      "F1 Score: 0.925382715723669\n"
     ]
    }
   ],
   "source": [
    "# Calculate precision, recall, and F1 score\n",
    "precision = precision_score(y_test, y_pred, average='weighted')\n",
    "recall = recall_score(y_test, y_pred, average='weighted')\n",
    "f1 = f1_score(y_test, y_pred, average='weighted')\n",
    "\n",
    "print(\"Precision:\", precision)\n",
    "print(\"Recall:\", recall)\n",
    "print(\"F1 Score:\", f1)"
   ]
  },
  {
   "cell_type": "markdown",
   "id": "8a85c435",
   "metadata": {},
   "source": [
    "### Happy Coding"
   ]
  }
 ],
 "metadata": {
  "kernelspec": {
   "display_name": "Python 3 (ipykernel)",
   "language": "python",
   "name": "python3"
  },
  "language_info": {
   "codemirror_mode": {
    "name": "ipython",
    "version": 3
   },
   "file_extension": ".py",
   "mimetype": "text/x-python",
   "name": "python",
   "nbconvert_exporter": "python",
   "pygments_lexer": "ipython3",
   "version": "3.11.5"
  }
 },
 "nbformat": 4,
 "nbformat_minor": 5
}
