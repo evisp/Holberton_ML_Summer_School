{
 "cells": [
  {
   "cell_type": "markdown",
   "id": "e7744d74",
   "metadata": {},
   "source": [
    "<img src=\"../figs/holberton_logo.png\" alt=\"logo\" width=\"500\"/>\n",
    "\n",
    "# Python Crash Course\n",
    "\n",
    "The goal of this Python crash course is to provide a foundational understanding of key programming concepts essential for programming in Python. It covers fundamental aspects such as conditions, loops, and data structures like lists and dictionaries."
   ]
  },
  {
   "cell_type": "markdown",
   "id": "e8fa17b5",
   "metadata": {},
   "source": [
    "## Python as a Calculator. Numbers\n",
    "\n",
    "Python has various \"types\" of numbers (numeric literals). We'll mainly focus on integers and floating point numbers.\n",
    "\n",
    "Integers are just whole numbers, positive or negative. For example: `2 and `-7` are examples of integers.\n",
    "\n",
    "Floating point numbers in Python are notable because they have a decimal point in them, or use an exponential (`e`) to define the number. For example `3.14` and `-2.1` are examples of floating point numbers. `4E2` (`4` times `10` to the power of `2`) is also an example of a floating point number in Python\n",
    "\n",
    "### Arithmetic operations\n",
    "\n",
    "- **Operators:** Python supports standard arithmetic operators, including `+` for addition, `-` for subtraction, `*` for multiplication, `/` for division, and `%` for modulus.\n",
    "\n",
    "- **Integer Division:** The `//` operator performs integer division, discarding any remainder to produce a whole number result.\n",
    "\n",
    "- **Exponentiation:** The `**` operator raises a number to the power of another, facilitating exponentiation.\n",
    "\n",
    "- **Order of Operations:** Python follows the standard order of operations (`PEMDAS`) for arithmetic expressions, ensuring proper calculation precedence.\n",
    "\n",
    "- **Parentheses:** Parentheses `()` can be used to override the default order of operations, allowing users to control the evaluation sequence.\n",
    "\n",
    "- **Type Conversion:** Automatic type conversion may occur in mixed-type arithmetic operations, and explicit type conversion functions (`int()`, `float()`) allow users to manage data types as needed.\n",
    "\n",
    "- **Numeric Comparisons:** Arithmetic expressions can be used in numeric comparisons (`>`, `<`, `>=`, `<=`, `==`, `!=`) to evaluate conditions.\n",
    "\n",
    "- **Math Module:** For advanced mathematical functions (e.g., square root, trigonometry), the `math` module provides a range of additional capabilities beyond basic arithmetic.\n",
    "\n"
   ]
  },
  {
   "cell_type": "code",
   "execution_count": 1,
   "id": "b232426e",
   "metadata": {},
   "outputs": [
    {
     "name": "stdout",
     "output_type": "stream",
     "text": [
      "8\n",
      "6\n",
      "12\n",
      "5.0\n",
      "2\n",
      "3\n",
      "16\n",
      "0.30000000000000004\n"
     ]
    }
   ],
   "source": [
    "# Addition\n",
    "result_add = 5 + 3\n",
    "print(result_add)  # Output: 8\n",
    "\n",
    "# Subtraction\n",
    "result_sub = 10 - 4\n",
    "print(result_sub)  # Output: 6\n",
    "\n",
    "# Multiplication\n",
    "result_mul = 3 * 4\n",
    "print(result_mul)  # Output: 12\n",
    "\n",
    "# Division\n",
    "result_div = 15 / 3\n",
    "print(result_div)  # Output: 5.0\n",
    "\n",
    "# Modulus\n",
    "result_mod = 17 % 5\n",
    "print(result_mod)  # Output: 2\n",
    "\n",
    "# Integer Division\n",
    "result_int_div = 17 // 5\n",
    "print(result_int_div)  # Output: 3\n",
    "\n",
    "# Exponentiation\n",
    "result_exp = 2 ** 4\n",
    "print(result_exp)  # Output: 16\n",
    "\n",
    "# Floating-point Precision\n",
    "result_float = 0.1 + 0.2\n",
    "print(result_float)  # Output: 0.30000000000000004 (due to floating-point precision)\n",
    "\n"
   ]
  },
  {
   "cell_type": "markdown",
   "id": "ba0f82cc",
   "metadata": {},
   "source": [
    "We can also update a variable doing arithmetic operations. There are several syntax shortcuts we can use to update a variable when we're doing arithmetic operations. Below is a table with some syntax shortcuts we can use:\n",
    "\n",
    "![variables](../figs/0_pythoncrashcourse/4-variables_shortcut.svg)\n",
    "\n",
    "Note that we can only use these operators `(+=, -=, *=, /=, **=)` to update a variable. This means the variable we're updating must already store a value. In other words, the variable must already be defined. When we try to update a variable that we haven't defined, we get an error called `NameError`."
   ]
  },
  {
   "cell_type": "markdown",
   "id": "382cb64b",
   "metadata": {},
   "source": [
    "### Variable names: syntax rules\n",
    "\n",
    "These are the two syntax rules we need to follow when we're naming variables:\n",
    "\n",
    "1. We must use only letters, numbers, or underscores (we can't use apostrophes, hyphens, spaces, etc.).\n",
    "2. Variable names can't begin with a number.\n",
    "\n",
    "![variables](../figs/0_pythoncrashcourse/3-variables.svg)\n",
    "\n",
    "Note that variable names are case sensitive, which means that a variable named `result` is different than a variable named `Result`. **It is common practice to write python variables in all lowercase letters** such as `taxes = 10.5`, and in case of multiple words to seperate them with the `_` symbol, such as `my_taxes = 10.5`"
   ]
  },
  {
   "cell_type": "markdown",
   "id": "54b07f24",
   "metadata": {},
   "source": [
    "### Logical operations (Boolean algebra)\n",
    "\n",
    "- **AND Operation (`and`):**\n",
    "  - Returns `True` only if both operands are `True`.\n",
    "  \n",
    "- **OR Operation (`or`):**\n",
    "  - Returns `True` if at least one of the operands is `True`.\n",
    "  \n",
    "- **NOT Operation (`not`):**\n",
    "  - Returns the opposite of the operand's truth value.\n",
    "  \n",
    "- **Comparison Operators (`==`, `!=`, `<`, `>`, `<=`, `>=`):**\n",
    "  - Used to compare values and return a Boolean result.\n",
    "  \n",
    "- **Chaining Logical Operators:**\n",
    "  - Multiple logical operations can be chained together for more complex conditions.\n",
    "  \n",
    "- **Identity Operators (`is`, `is not`):**\n",
    "  - Compare the memory locations of two objects.\n",
    "  \n",
    "- **Membership Operators (`in`, `not in`):**\n",
    "  - Check if a value is present (or not present) in a sequence.\n"
   ]
  },
  {
   "cell_type": "code",
   "execution_count": 2,
   "id": "44b7857b",
   "metadata": {},
   "outputs": [
    {
     "name": "stdout",
     "output_type": "stream",
     "text": [
      "False\n",
      "True\n",
      "False\n",
      "False\n",
      "True\n"
     ]
    }
   ],
   "source": [
    "# AND Operation\n",
    "result_and = True and False\n",
    "print(result_and)  # Output: False\n",
    "\n",
    "# OR Operation\n",
    "result_or = True or False\n",
    "print(result_or)  # Output: True\n",
    "\n",
    "# NOT Operation\n",
    "result_not = not True\n",
    "print(result_not)  # Output: False\n",
    "\n",
    "# Comparison Operators\n",
    "x = 5\n",
    "y = 10\n",
    "result_equal = x == y\n",
    "print(result_equal)  # Output: False\n",
    "\n",
    "# Chaining Logical Operators\n",
    "a = True\n",
    "b = False\n",
    "c = True\n",
    "result_chain = a and b or c\n",
    "print(result_chain)  # Output: True"
   ]
  },
  {
   "cell_type": "markdown",
   "id": "847f1126",
   "metadata": {},
   "source": [
    "### Types of Variables in Python\n",
    "\n",
    "In computer programming, we classify values into different **types** — or **data types**. The type of value offers the computer the required information about how to process that value. Depending on the type, the computer will know how to store a value in memory, or what operations we can and can't perform on a value.\n",
    "\n",
    "We can check what type of object is assigned to a variable using Python's built-in `type()` function. Common data types include:\n",
    "\n",
    "- `int` (for integer, i.e., natural positive and negative numbes, e.g., 2)\n",
    "- `float` (for floating point / decimal numbers, e.g., 3.14)\n",
    "- `str` (for string, e.g, a given text such as \"hello\")\n",
    "- `bool` (for Boolean True/False)\n",
    "- `list` (for a list of elements)\n",
    "- `tuple` (for a tuple of elements)\n",
    "- `dict` (for dictionary)\n",
    "- `set` (for a unique set of elements)\n",
    "\n",
    "We have already worked with numbers. Let us work with strings. \n",
    "\n",
    "## Strings in Python\n",
    "\n",
    "Strings are used in Python to record text information, such as names. Strings in Python are actually a sequence, which basically means Python keeps track of every element in the string as a sequence. For example, Python understands the string `hello` to be a sequence of letters in a specific order. This means we will be able to use indexing to grab particular letters (like the first letter, or the last letter).\n",
    "\n",
    "This idea of a sequence is an important one in Python and we will touch upon it later on in the future.\n",
    "\n",
    "In Python, **strings represent sequences of characters and can be enclosed using either single (`'`) or double (`\"`) quotes. This flexibility allows for easy integration of quotes within a string.\n",
    "\n",
    "```python\n",
    "favorite_word = \"Machine Learning\"\n",
    "````\n",
    "\n",
    "### Indexing and Slicing\n",
    "\n",
    "Access individual characters using positive or negative indices. Slicing extracts a portion of the string.\n",
    "\n",
    "```python\n",
    "who  = favorite_word[:7]   # machine\n",
    "what = favorite_word[7:]   #  learning\n",
    "````\n",
    "\n",
    "### String Concatenation\n",
    "Combine strings using the `+` operator.\n",
    "\n",
    "```python\n",
    "back_to_origin = who + what # machine learning\n",
    "````\n",
    "\n",
    "### String Length\n",
    "\n",
    "Determine the length of a string using `len()`.\n",
    "```python\n",
    "nr_chars = len(favorite_word)  \n",
    "````\n",
    "\n",
    "### Basic String Methods\n",
    "\n",
    "- `upper()`: Convert the string to uppercase.\n",
    "- `lower()`: Convert the string to lowercase.\n",
    "- `count(substring)`: Count occurrences of a substring.\n",
    "- `replace(old, new)`: Replace occurrences of a substring.\n",
    "- `find(substring)`: Find the index of the first occurrence of a substring.\n",
    "- `split(separator)`: Split the string into a list based on a separator.\n",
    "- `strip()`: Remove leading and trailing whitespaces."
   ]
  },
  {
   "cell_type": "code",
   "execution_count": 3,
   "id": "ca4d4d92",
   "metadata": {},
   "outputs": [
    {
     "name": "stdout",
     "output_type": "stream",
     "text": [
      "MACHINE LEARNING\n",
      "machine learning\n",
      "2\n",
      "Deep learning\n",
      "8\n",
      "['Machine', 'learning']\n",
      "Machine learning\n"
     ]
    }
   ],
   "source": [
    "favorite_word = \"Machine learning\"\n",
    "\n",
    "# Convert the string to uppercase\n",
    "upper_case = favorite_word.upper()\n",
    "print(upper_case)  # Output: MACHINE LEARNING\n",
    "\n",
    "# Convert the string to lowercase\n",
    "lower_case = favorite_word.lower()\n",
    "print(lower_case)  # Output: machine learning\n",
    "\n",
    "# Count occurrences of a substring\n",
    "substring_count = favorite_word.count(\"e\")\n",
    "print(substring_count)  # Output: 3\n",
    "\n",
    "# Replace occurrences of a substring\n",
    "replaced_word = favorite_word.replace(\"Machine\", \"Deep\")\n",
    "print(replaced_word)  # Output: Deep learning\n",
    "\n",
    "# Find the index of the first occurrence of a substring\n",
    "substring_index = favorite_word.find(\"learn\")\n",
    "print(substring_index)  # Output: 8\n",
    "\n",
    "# Split the string into a list based on a separator\n",
    "split_words = favorite_word.split(\" \")\n",
    "print(split_words)  # Output: ['Machine', 'learning']\n",
    "\n",
    "# Remove leading and trailing whitespaces\n",
    "stripped_word = favorite_word.strip()\n",
    "print(stripped_word)  # Output: Machine learning"
   ]
  },
  {
   "cell_type": "markdown",
   "id": "ca3e1123",
   "metadata": {},
   "source": [
    "### String formatting\n",
    "\n",
    "String formatting lets you inject items into a string rather than trying to chain items together using commas or string concatenation. As a quick comparison, consider:"
   ]
  },
  {
   "cell_type": "code",
   "execution_count": 4,
   "id": "fccb67a2",
   "metadata": {},
   "outputs": [
    {
     "name": "stdout",
     "output_type": "stream",
     "text": [
      "The GPT-4 achieved an accuracy of 95.24545454%.\n",
      "The GPT-4 achieved an accuracy of 95.2%.\n"
     ]
    }
   ],
   "source": [
    "model = 'GPT-4'\n",
    "accuracy = 95.24545454\n",
    "\n",
    "# Concatenation\n",
    "description_concat = 'The ' + model + ' achieved an accuracy of ' + str(accuracy) + '%.'\n",
    "print(description_concat)  # Output: The GPT-4 achieved an accuracy of 95.2%.\n",
    "\n",
    "# String Formatting\n",
    "description_format = f'The {model} achieved an accuracy of {accuracy:.1f}%.'\n",
    "print(description_format)  # Output: The GPT-4 achieved an accuracy of 95.2%.\n"
   ]
  },
  {
   "cell_type": "markdown",
   "id": "0b9f5c0f",
   "metadata": {},
   "source": [
    "For more information, visit [official documentation](https://docs.python.org/3/reference/lexical_analysis.html#f-strings)"
   ]
  },
  {
   "cell_type": "markdown",
   "id": "50fca082",
   "metadata": {},
   "source": [
    "## Lists in Python\n",
    "\n",
    "Lists are great to use when you want to work with many related values. They enable you to keep data together that belongs together, condense your code, and perform the same methods and operations on multiple values at once.\n",
    "\n",
    "A **list** is a **data structure** in Python that is a *mutable* (changeable), *ordered sequence* of elements. Each element or value that is inside of a list is called an item. \n",
    "\n",
    "Each element (data point) in a list has a specific number associated with it — this is an index number. The indexing always starts at 0, so the first element will have the index number 0, the second element will have the index number 1, and so on.\n",
    "\n",
    "![lists](../figs/0_pythoncrashcourse/5-lists.svg)\n",
    "\n",
    "To quickly find the index of a list element, identify its position in the list, and then subtract `1`. For example, the string `'USD'` is the third element of the list (position number `3`), so its index number must be `2` since `3-1=2`.\n",
    "\n",
    "The index numbers help us retrieve individual elements from a list. Looking back at the list `row_1`, we can retrieve the first element (the string `'Facebook'`) with the index number `0` by running the code print(`row_1[0]`)."
   ]
  },
  {
   "cell_type": "markdown",
   "id": "09c01d3a",
   "metadata": {},
   "source": [
    "### How to Access Lists\n",
    "\n",
    "The syntax for retrieving individual list elements follows the model `list_name[index_number]`. For instance, the name of our list above is `row_1`, and the index number of the first element is `0` — following the `list_name[index_number]` model, we get `row_1[0]`, where the index number `0` is in square brackets after the variable name `row_1`.\n",
    "\n",
    "![lists](../figs/0_pythoncrashcourse/6-lists.svg)\n",
    "\n",
    "This is how we can retrieve each element in `row_1`:\n",
    "\n",
    "![lists](../figs/0_pythoncrashcourse/7-lists.svg)\n",
    "\n",
    "Retrieving list elements makes it easier to perform operations. For instance, we can select the ratings for Facebook and Instagram and find the average or the difference between the two:\n",
    "\n",
    "### Indexing Lists\n",
    "\n",
    "In Python, we have two indexing systems for lists:\n",
    "- **Positive indexing**: the first element has the index number `0`, the second element has the index number `1`, and so on.\n",
    "\n",
    "\n",
    "- **Negative indexing**: the last element has the index number `-1`, the second to last element has the index number `-2`, and so on.\n",
    "\n",
    "![lists](../figs/0_pythoncrashcourse/8-lists.svg)\n",
    "\n",
    "In practice, we almost always use positive indexing to retrieve list elements. Negative indexing is useful when we want to select the last element of a list — especially if the list is long, and we can't tell the length by counting.\n",
    "\n",
    "### Retreiving Multiple Elements from a List\n",
    "\n",
    "Often we need to retrieve more than one element from a list. Let's say we have the list `['Facebook', 0.0, 'USD', 2974676, 3.5]`, and we're interested in isolating only parts of it. When we select the first `n` elements (`n` stands for a number) from a list named a_list, we can use the syntax shortcut `a_list[0:n]`. \n",
    "\n",
    "When we selected the first three elements, we sliced a part of the list. For this reason, we call the process of selecting a part of a list list slicing.\n",
    "\n",
    "There are many ways that we might want to slice a list:\n",
    "\n",
    "![lists](../figs/0_pythoncrashcourse/9-lists.svg)\n",
    "\n",
    "\n",
    "### Key Operations in Lists\n",
    "\n",
    "- **Slicing**: Extract a subsequence of elements from a list using the slicing notation (`start:stop:step`).\n",
    "- **Appending** (`append()`): Add an element to the end of a list.\n",
    "- **Inserting** (`insert()`): Insert an element at a specific index in the list.\n",
    "- **Removing** (`remove()`): Remove the first occurrence of a specified value from the list.\n",
    "- **Popping** (`pop()`): Remove and return an element at a specified index. If no index is provided, the last element is removed.\n",
    "- **Extending** (`extend()`): Append elements from an iterable (e.g., another list) to the end of the list.\n",
    "- **Counting** (`count()`): Count the number of occurrences of a specific element in the list.\n",
    "- **Index of** (`index()`): Find the index of the first occurrence of a specific element in the list.\n",
    "- **Sorting** (`sort()`): Sort the elements of the list in ascending order. Optionally, you can customize the sorting with a key function.\n",
    "- ... and so many more. **please [visit the documentation](https://docs.python.org/3/tutorial/datastructures.html)**"
   ]
  },
  {
   "cell_type": "code",
   "execution_count": 5,
   "id": "24097cb6",
   "metadata": {},
   "outputs": [
    {
     "name": "stdout",
     "output_type": "stream",
     "text": [
      "['Unsupervised', 'Regression', 'Classification']\n",
      "['Supervised', 'Unsupervised', 'Regression', 'Classification', 'Deep Learning', 'Clustering']\n",
      "['Supervised', 'Unsupervised', 'Neural Networks', 'Regression', 'Classification', 'Deep Learning', 'Clustering']\n",
      "['Supervised', 'Unsupervised', 'Neural Networks', 'Classification', 'Deep Learning', 'Clustering']\n",
      "Classification\n",
      "['Supervised', 'Unsupervised', 'Neural Networks', 'Deep Learning', 'Clustering']\n",
      "['Supervised', 'Unsupervised', 'Neural Networks', 'Deep Learning', 'Clustering', 'Ensemble Learning', 'Feature Engineering']\n",
      "1\n",
      "3\n",
      "['Clustering', 'Deep Learning', 'Ensemble Learning', 'Feature Engineering', 'Neural Networks', 'Supervised', 'Unsupervised']\n"
     ]
    }
   ],
   "source": [
    "ml_words = ['Supervised', 'Unsupervised', 'Regression', 'Classification', 'Deep Learning']\n",
    "\n",
    "sliced_words = ml_words[1:4]\n",
    "print(sliced_words)\n",
    "\n",
    "ml_words.append('Clustering')\n",
    "print(ml_words)\n",
    "\n",
    "ml_words.insert(2, 'Neural Networks')\n",
    "print(ml_words)\n",
    "\n",
    "ml_words.remove('Regression')\n",
    "print(ml_words)\n",
    "\n",
    "popped_element = ml_words.pop(3)\n",
    "print(popped_element)\n",
    "print(ml_words)\n",
    "\n",
    "additional_words = ['Ensemble Learning', 'Feature Engineering']\n",
    "ml_words.extend(additional_words)\n",
    "print(ml_words)\n",
    "\n",
    "count_neural_networks = ml_words.count('Neural Networks')\n",
    "print(count_neural_networks)\n",
    "\n",
    "index_deep_learning = ml_words.index('Deep Learning')\n",
    "print(index_deep_learning)\n",
    "\n",
    "ml_words.sort()\n",
    "print(ml_words)\n"
   ]
  },
  {
   "cell_type": "markdown",
   "id": "3dbfe65e",
   "metadata": {},
   "source": [
    "## Control Structures: Loops\n",
    "\n",
    "Loops are important in Python or in any other programming language as they help you to execute a block of code repeatedly. You will often come face to face with situations where you would need to use a piece of code over and over but you don't want to write the same line of code multiple times.\n",
    "\n",
    "In this part, we'll learn how to use a **`for` loop** to repeat a process and analyze a dataset — and how to read in a large dataset as a list of lists.\n",
    "\n",
    "Let's take a look at the dataset we'll be using:\n",
    "\n",
    "![lists](../figs/0_pythoncrashcourse/11-dataset.png)\n",
    "\n",
    "Data source: [Mobile App Store Dataset](https://www.kaggle.com/datasets/ramamet4/app-store-apple-data-set-10k-apps)\n",
    "\n",
    "\n",
    "Our dataset now has 7,197 rows. Our best strategy was to do the following:\n",
    "\n",
    "- Read the dataset\n",
    "- Retrieve each individual rating.\n",
    "- Sum the ratings.\n",
    "- Divide by the number of ratings.\n",
    "\n",
    "These are the structural parts of a for loop:\n",
    "\n",
    "![loops](../figs/0_pythoncrashcourse/11-loop.svg)\n",
    "\n",
    "The indented code in the body gets executed the same number of times as elements in the iterable variable. If the iterable variable is a list containing three elements, the indented code in the body gets executed three times. We call each code execution an iteration, so there will be three iterations for a list that has three elements. For each iteration, the iteration variable will take a different value, following this pattern:\n",
    "\n",
    "- For the first iteration, the value is the first element of the iterable (if the iterable is the list `[1, 3, 5]`, then the value will be 1).\n",
    "\n",
    "- For the second iteration, the value is the second element of the iterable (if the iterable is the list `[1, 3, 5]`, then the value will be 3).\n",
    "\n",
    "- For the third iteration, the value is the third element of the iterable (if the iterable is the list `[1, 3, 5]`, then the value will be 5).\n",
    "\n",
    "<img src=\"../figs/0_pythoncrashcourse/loop_gif.gif\" width=\"600\">\n"
   ]
  },
  {
   "cell_type": "markdown",
   "id": "fb46617c",
   "metadata": {},
   "source": [
    "Now let's learn how to read in a large dataset as a list of lists, so that we can calculate the average app rating. A dataset is generally stored as a file in a computer — the dataset above is stored as a file named `AppleStore.csv`. We start by opening the file using the `open()` function:\n",
    "\n",
    "Once we've opened the file, we read it in using a function called `reader()`. We import the `reader()` function from the `csv` module using the code from csv import reader (a module is a collection of functions and variables)."
   ]
  },
  {
   "cell_type": "code",
   "execution_count": 6,
   "id": "6ead0112",
   "metadata": {},
   "outputs": [
    {
     "name": "stdout",
     "output_type": "stream",
     "text": [
      "Length of dataset: 7198\n",
      "\n",
      "Header\n",
      "['id', 'track_name', 'size_bytes', 'currency', 'price', 'rating_count_tot', 'rating_count_ver', 'user_rating', 'user_rating_ver', 'ver', 'cont_rating', 'prime_genre', 'sup_devices.num', 'ipadSc_urls.num', 'lang.num', 'vpp_lic']\n",
      "\n",
      "First two rows\n",
      "[['281656475', 'PAC-MAN Premium', '100788224', 'USD', '3.99', '21292', '26', '4', '4.5', '6.3.5', '4+', 'Games', '38', '5', '10', '1'], ['281796108', 'Evernote - stay organized', '158578688', 'USD', '0', '161065', '26', '4', '3.5', '8.2.2', '4+', 'Productivity', '37', '5', '23', '1']]\n"
     ]
    }
   ],
   "source": [
    "from csv import reader\n",
    "\n",
    "opened_file = open('../data/AppleStore.csv', encoding=\"utf8\")\n",
    "read_file = reader(opened_file)\n",
    "apps_data = list(read_file)\n",
    "\n",
    "print(f\"Length of dataset: {len(apps_data)}\")\n",
    "print(\"\\nHeader\")\n",
    "print(apps_data[0])\n",
    "print(\"\\nFirst two rows\")\n",
    "print(apps_data[1:3])"
   ]
  },
  {
   "cell_type": "markdown",
   "id": "eb68e5b3",
   "metadata": {},
   "source": [
    "Now let's move on to calculating the average rating\n",
    "\n"
   ]
  },
  {
   "cell_type": "code",
   "execution_count": 7,
   "id": "4cafd3b1",
   "metadata": {},
   "outputs": [
    {
     "name": "stdout",
     "output_type": "stream",
     "text": [
      "Average rating: 3.53\n"
     ]
    }
   ],
   "source": [
    "# Read the dataset\n",
    "opened_file = open('../data/AppleStore.csv', encoding=\"utf-8\")\n",
    "from csv import reader\n",
    "read_file = reader(opened_file)\n",
    "apps_data = list(read_file)\n",
    "\n",
    "# calculate sum\n",
    "rating_sum = 0\n",
    "for row in apps_data[1:]:\n",
    "    rating = float(row[7])\n",
    "    rating_sum = rating_sum + rating\n",
    "\n",
    "# calculate average\n",
    "avg_rating = rating_sum / len(apps_data[1:])\n",
    "\n",
    "print(f\"Average rating: {avg_rating:.2f}\")"
   ]
  },
  {
   "cell_type": "markdown",
   "id": "d908465e",
   "metadata": {},
   "source": [
    "#### Alternative Approach Using the Append Method\n",
    "\n",
    "Now that we know how to append values to a list, we can take the following steps to calculate the average app rating:\n",
    "\n",
    "1. We initialize an empty list.\n",
    "2. We start looping over our dataset and extract the ratings.\n",
    "3. We append the ratings to the empty list we created in step one.\n",
    "4. Once we have all the ratings, we do the following:\n",
    "    - Use the `sum()` function to add all the ratings (to be able to use `sum()`, we'll need to store the ratings as floats or integers).\n",
    "    - Divide the sum by the number of ratings (which we can get using the `len()` function).\n",
    "    \n",
    "Below, we can see these steps for our dataset containing five rows:"
   ]
  },
  {
   "cell_type": "code",
   "execution_count": 8,
   "id": "46afea1d",
   "metadata": {},
   "outputs": [
    {
     "name": "stdout",
     "output_type": "stream",
     "text": [
      "3.53\n"
     ]
    }
   ],
   "source": [
    "opened_file = open('../data/AppleStore.csv', encoding=\"utf-8\")\n",
    "from csv import reader\n",
    "read_file = reader(opened_file)\n",
    "apps_data = list(read_file)\n",
    "\n",
    "\n",
    "rating_sum = []\n",
    "for row in apps_data[1:]:\n",
    "    rating = float(row[7])\n",
    "    rating_sum.append(rating)\n",
    "    \n",
    "avg_rating = sum(rating_sum) / len(rating_sum)\n",
    "\n",
    "print(f\"{avg_rating:.2f}\")"
   ]
  },
  {
   "cell_type": "markdown",
   "id": "b068a457",
   "metadata": {},
   "source": [
    "## Control Structures: Conditions\n",
    "\n",
    "We can ask more advanced questions about datasets, by using the following tools:\n",
    "\n",
    "- How to use `if` statements\n",
    "- How to use `Boolean` values\n",
    "- How to use comparison operators with strings or lists\n",
    "\n",
    "We can answer questions such as\n",
    "\n",
    "- What's the average rating of non-free apps?\n",
    "- What's the average rating of free apps?\n",
    "\n",
    "\n",
    "![lists](../figs/0_pythoncrashcourse/12-if.svg)\n",
    "\n",
    "To isolate only the ratings of the free apps, we need to add a condition to our code. Specifically, we want to add a rating to the ratings list only if the `price` equals `0.0`:\n",
    "\n",
    "![lists](../figs/0_pythoncrashcourse/13-if.svg)\n",
    "\n",
    "To implement the condition above (If the price equals 0.0, then do:) in our code, we can use an `if` statement:\n",
    "\n",
    "![lists](../figs/0_pythoncrashcourse/14-if.svg)\n",
    "\n",
    "\n"
   ]
  },
  {
   "cell_type": "code",
   "execution_count": 9,
   "id": "ea8ee148",
   "metadata": {},
   "outputs": [
    {
     "name": "stdout",
     "output_type": "stream",
     "text": [
      "Average rating of free apps: 3.53\n",
      "4056\n"
     ]
    }
   ],
   "source": [
    "# Open AppleStore file and read it\n",
    "opened_file = open('../data/AppleStore.csv', encoding=\"utf-8\")\n",
    "from csv import reader\n",
    "read_file = reader(opened_file)\n",
    "apps_data = list(read_file)\n",
    "\n",
    "# Find sum of all ratings\n",
    "free_apps_ratings = []\n",
    "for row in apps_data[1:]:\n",
    "    rating = float(row[7])\n",
    "    price = float(row[4])   \n",
    "    if price == 0.0:\n",
    "        free_apps_ratings.append(rating)\n",
    " \n",
    "# Find average\n",
    "avg_rating_free = sum(free_apps_ratings) / len(free_apps_ratings)\n",
    "print(f\"Average rating of free apps: {avg_rating:.2f}\")\n",
    "\n",
    "print(len(free_apps_ratings))\n"
   ]
  },
  {
   "cell_type": "markdown",
   "id": "cd9b3c83",
   "metadata": {},
   "source": [
    "## Practice\n",
    "\n",
    "### Read the dataset into a list"
   ]
  },
  {
   "cell_type": "code",
   "execution_count": 10,
   "id": "fb9b584f",
   "metadata": {},
   "outputs": [],
   "source": [
    "opened_file = open('../data/AppleStore.csv', encoding=\"utf-8\")\n",
    "from csv import reader\n",
    "read_file = reader(opened_file)\n",
    "apps_data = list(read_file)"
   ]
  },
  {
   "cell_type": "markdown",
   "id": "99b787e0",
   "metadata": {},
   "source": [
    "### How many apps are free and how many are paid?"
   ]
  },
  {
   "cell_type": "code",
   "execution_count": 11,
   "id": "5d888660",
   "metadata": {},
   "outputs": [
    {
     "name": "stdout",
     "output_type": "stream",
     "text": [
      "Number of Free Apps: 4056\n",
      "Number of Paid Apps: 3141\n"
     ]
    }
   ],
   "source": [
    "free_apps = 0\n",
    "paid_apps = 0\n",
    "\n",
    "for row in apps_data[1:]:\n",
    "    if float(row[4]) == 0.0:\n",
    "        free_apps += 1\n",
    "    else:\n",
    "        paid_apps += 1\n",
    "\n",
    "print(\"Number of Free Apps:\", free_apps)\n",
    "print(\"Number of Paid Apps:\", paid_apps)"
   ]
  },
  {
   "cell_type": "markdown",
   "id": "18656c3f",
   "metadata": {},
   "source": [
    "### What is the average user rating for all apps?"
   ]
  },
  {
   "cell_type": "code",
   "execution_count": 12,
   "id": "06afe1a2",
   "metadata": {},
   "outputs": [
    {
     "name": "stdout",
     "output_type": "stream",
     "text": [
      "Average User Rating for All Apps:, 3.53\n"
     ]
    }
   ],
   "source": [
    "total_ratings = 0\n",
    "num_apps = 0\n",
    "\n",
    "for row in apps_data[1:]:\n",
    "    total_ratings += float(row[7])\n",
    "    num_apps += 1\n",
    "\n",
    "average_rating = total_ratings / num_apps\n",
    "print(f\"Average User Rating for All Apps:, {average_rating:.2f}\")\n"
   ]
  },
  {
   "cell_type": "markdown",
   "id": "9ba391e9",
   "metadata": {},
   "source": [
    "### How many apps have a rating greater than 4.5?"
   ]
  },
  {
   "cell_type": "code",
   "execution_count": 13,
   "id": "8e7237a2",
   "metadata": {},
   "outputs": [
    {
     "name": "stdout",
     "output_type": "stream",
     "text": [
      "Number of Apps with Rating > 4.5 is 492\n"
     ]
    }
   ],
   "source": [
    "high_rated_apps = 0\n",
    "\n",
    "for row in apps_data[1:]:\n",
    "    if float(row[7]) > 4.5:\n",
    "        high_rated_apps += 1\n",
    "\n",
    "print(f\"Number of Apps with Rating > 4.5 is {high_rated_apps}\")\n"
   ]
  },
  {
   "cell_type": "markdown",
   "id": "9209af3d",
   "metadata": {},
   "source": [
    "### How many apps are in the 'Games' genre?"
   ]
  },
  {
   "cell_type": "code",
   "execution_count": 14,
   "id": "8ca5671f",
   "metadata": {},
   "outputs": [
    {
     "name": "stdout",
     "output_type": "stream",
     "text": [
      "Number of Apps in 'Games' Genre: 3862\n"
     ]
    }
   ],
   "source": [
    "games_count = 0\n",
    "\n",
    "for row in apps_data[1:]:\n",
    "    if row[11] == 'Games': \n",
    "        games_count += 1\n",
    "\n",
    "print(\"Number of Apps in 'Games' Genre:\", games_count)\n"
   ]
  },
  {
   "cell_type": "markdown",
   "id": "6165e00b",
   "metadata": {},
   "source": [
    "### Display the names of free apps with a user rating greater than 4.5"
   ]
  },
  {
   "cell_type": "code",
   "execution_count": 15,
   "id": "78f7115e",
   "metadata": {},
   "outputs": [
    {
     "name": "stdout",
     "output_type": "stream",
     "text": [
      "Free Apps with User Rating > 4.5:\n",
      "['Flashlight Ⓞ', 'Zappos: shop shoes & clothes, fast free shipping', 'The Guardian', 'Meitu', 'Bitauto Autoprice']\n"
     ]
    }
   ],
   "source": [
    "print(\"Free Apps with User Rating > 4.5:\")\n",
    "free_apps = []\n",
    "for row in apps_data[1:]:\n",
    "    if float(row[7]) > 4.5 and float(row[4]) == 0.0:  #  indices 7 and 4 correspond to 'user_rating' and 'price' columns\n",
    "        free_apps.append(row[1])  #  index 1 corresponds to the 'track_name' column\n",
    "print(free_apps[:5])\n"
   ]
  },
  {
   "cell_type": "markdown",
   "id": "da1edb69",
   "metadata": {},
   "source": [
    "### List the names and prices of paid apps in the 'Education' genre."
   ]
  },
  {
   "cell_type": "code",
   "execution_count": 16,
   "id": "b8f3fef2",
   "metadata": {},
   "outputs": [
    {
     "name": "stdout",
     "output_type": "stream",
     "text": [
      "Paid Apps in 'Education' Genre Sorted by Highest Price:\n",
      "LAMP Words For Life - Price: $299.99\n",
      "Proloquo2Go - Symbol-based AAC - Price: $249.99\n",
      "Articulation Station Pro - Price: $59.99\n",
      "Articulation Test Center Pro - Price: $59.99\n",
      "AnkiMobile Flashcards - Price: $24.99\n",
      "Foundations Memory Work Tutorials, Cycle 2 - Price: $15.99\n",
      "Special Version - Explain Everything™ Whiteboard - Price: $15.99\n",
      "Voice Dream Reader - Price: $14.99\n",
      "ネイティブ1000人と作った英会話～日常英会話編～ - Price: $12.99\n",
      "iDoceo - teacher's assistant gradebook and planner - Price: $11.99\n"
     ]
    }
   ],
   "source": [
    "paid_education_apps = []\n",
    "\n",
    "# Append names and prices of paid apps in 'Education' genre to the list\n",
    "for row in apps_data[1:]:\n",
    "    genre = row[11]  \n",
    "    price = float(row[4])  \n",
    "    \n",
    "    if price > 0.0 and genre == 'Education':\n",
    "        paid_education_apps.append((row[1], price))  # Append a tuple with app name and price\n",
    "\n",
    "# Sort the list by the second element (price) in descending order\n",
    "paid_education_apps.sort(key=lambda x: x[1], reverse=True)\n",
    "\n",
    "# Print the sorted list\n",
    "print(\"Paid Apps in 'Education' Genre Sorted by Highest Price:\")\n",
    "for app_name, app_price in paid_education_apps[:10]:\n",
    "    print(f\"{app_name} - Price: ${app_price}\")\n"
   ]
  },
  {
   "cell_type": "markdown",
   "id": "0afc3b0d",
   "metadata": {},
   "source": [
    "## Data Structures: Dictionaries\n",
    "\n",
    "Dictionaries are powerful data structures that allow you to store and retrieve data in a **key-value pair** format. *Unlike lists, which use numeric indices, dictionaries use keys for quick and efficient data access*. This makes dictionaries an essential tool for organizing and manipulating data, especially when dealing with datasets.\n",
    "\n",
    "- Efficient data retrieval: Dictionaries provide fast access to values using unique keys.\n",
    "\n",
    "\n",
    "- Flexible data structure: They allow the storage of various data types as both keys and values.\n",
    "\n",
    "\n",
    "- Dynamic updating: Easily add, modify, or remove key-value pairs, making them adaptable to changing data.\n",
    "\n",
    "### Syntax for declaring a dictionary\n",
    "\n",
    "```python\n",
    "# Empty dictionary\n",
    "my_model = {}\n",
    "\n",
    "\n",
    "# Sample dictionary representing a machine learning model\n",
    "ml_model = {\n",
    "    \"name\": \"Linear Regression\",\n",
    "    \"algorithm\": \"Supervised Learning\",\n",
    "    \"features\": [\"Width\", \"Height\"],\n",
    "    \"hyperparameters\": {\n",
    "        \"learning_rate\": 0.01,\n",
    "        \"iterations\": 1000,\n",
    "        \"regularization\": \"L2\"\n",
    "    }\n",
    "}\n",
    "\n",
    "```\n",
    "\n",
    "### Key methods in dicitonaries\n",
    "\n",
    "- `dict[key]`: Access value using key.\n",
    "`dict[key] = value`: Add or update a key-value pair.\n",
    "- `del dict[key]`: Delete a key-value pair.\n",
    "- `key in dict`: Check if a key exists in the dictionary.\n",
    "- `dict.keys()`: Return a list of all keys.\n",
    "- `dict.values()`: Return a list of all values.\n",
    "- `dict.items()`: Return a list of key-value pairs (tuples).\n",
    "- `dict.get(key, default)`: Safely get a value, return default if key not present.\n",
    "- `dict.pop(key, default)`: Remove and return the value for a given key, or default if key not present."
   ]
  },
  {
   "cell_type": "code",
   "execution_count": 17,
   "id": "aca1e9bc",
   "metadata": {},
   "outputs": [
    {
     "name": "stdout",
     "output_type": "stream",
     "text": [
      "Linear Regression\n",
      "Accuracy present\n",
      "{'name': 'Linear Regression', 'algorithm': 'Linear Model', 'hyperparameters': {'learning_rate': 0.01, 'iterations': 1000, 'regularization': 'L2'}, 'accuracy': 0.85, 'new_feature': 'Feature 4'}\n"
     ]
    }
   ],
   "source": [
    "# Sample dictionary representing a machine learning model\n",
    "ml_model = {\n",
    "    \"name\": \"Linear Regression\",\n",
    "    \"algorithm\": \"Supervised Learning\",\n",
    "    \"features\": [\"Feature 1\", \"Feature 2\", \"Feature 3\"],\n",
    "    \"hyperparameters\": {\n",
    "        \"learning_rate\": 0.01,\n",
    "        \"iterations\": 1000,\n",
    "        \"regularization\": \"L2\"\n",
    "    }\n",
    "}\n",
    "\n",
    "# Accessing values\n",
    "print(ml_model[\"name\"]) \n",
    "\n",
    "# Adding a new key-value pair\n",
    "ml_model[\"accuracy\"] = 0.85\n",
    "\n",
    "# Deleting a key-value pair\n",
    "del ml_model[\"features\"]\n",
    "\n",
    "# Checking if a key exists\n",
    "if \"accuracy\" in ml_model:\n",
    "    print(\"Accuracy present\")\n",
    "\n",
    "# Getting all keys and values\n",
    "keys = ml_model.keys()\n",
    "values = ml_model.values()\n",
    "\n",
    "# Getting key-value pairs\n",
    "items = ml_model.items()\n",
    "\n",
    "# Updating the dictionary\n",
    "ml_model.update({\"algorithm\": \"Linear Model\", \"new_feature\": \"Feature 4\"})\n",
    "\n",
    "# Displaying the modified dictionary\n",
    "print(ml_model)\n"
   ]
  },
  {
   "cell_type": "markdown",
   "id": "40e0e1dd",
   "metadata": {},
   "source": [
    "### Dictionaries in practice\n",
    "\n",
    "Let's go back to our [Mobile App Store Dataset](https://www.kaggle.com/datasets/ramamet4/app-store-apple-data-set-10k-apps)\n",
    "\n",
    "![lists](../figs/0_pythoncrashcourse/11-dataset.png)\n",
    "\n",
    "Within this dataset, the `cont_rating` column offers information about the content rating of each app. The content rating of an app (also known as the maturity rating) represents the age required to use that app. The table below shows the unique content ratings in our dataset, along with the number of apps specific to each rating:\n",
    "\n",
    "| Content rating | Number of apps |\n",
    "| --- | --- | \n",
    "| 4+ | 4,433 |\n",
    "| 9+ | 987 |\n",
    "| 12+ | 1,155 |\n",
    "| 17+ | 622 |\n",
    "\n",
    "**Our goal is to use dictionaries to find this information**\n",
    "\n",
    "The animation below demonstrates the transition from table to dictionary.\n",
    "\n",
    "![dict](../figs/0_pythoncrashcourse/dict.gif)\n",
    "\n",
    "Now, let's try to create the content_ratings dictionary ourselves.\n",
    "\n",
    "1. Create a dictionary named `content_ratings` where the keys are the unique content ratings and the values are all `0` (the values of `0` are temporary at this point, and they'll be updated).\n",
    "\n",
    "\n",
    "2. Loop through the `apps_data` list of lists and make sure you don't include the header row. For each iteration of the loop, do the following:\n",
    "    - Assign the content rating value to a variable named `c_rating`. The content rating is at index number `10` in each row.\n",
    "    - Check if `c_rating` exists as a key in content_ratings. If it exists, then increment the dictionary value at that key by `1` (the key is equivalent to the value stored in `c_rating`).\n",
    "    \n",
    "    \n",
    "3. Outside the loop, print `content_ratings` to check if the counting worked as expected."
   ]
  },
  {
   "cell_type": "code",
   "execution_count": 18,
   "id": "17d3f558",
   "metadata": {},
   "outputs": [
    {
     "name": "stdout",
     "output_type": "stream",
     "text": [
      "{'4+': 4433, '9+': 987, '12+': 1155, '17+': 622}\n"
     ]
    }
   ],
   "source": [
    "opened_file = open('../data/AppleStore.csv', encoding=\"utf-8\")\n",
    "from csv import reader\n",
    "read_file = reader(opened_file)\n",
    "apps_data = list(read_file)\n",
    "\n",
    "content_ratings = {'4+': 0, '9+': 0, '12+': 0, '17+': 0}\n",
    "\n",
    "for row in apps_data[1:]:\n",
    "    c_rating = row[10]\n",
    "    if c_rating in content_ratings:\n",
    "        content_ratings[c_rating] += 1\n",
    "        \n",
    "print(content_ratings)"
   ]
  },
  {
   "cell_type": "markdown",
   "id": "a86b4d5f",
   "metadata": {},
   "source": [
    "### What if we do not know the dictionary values beforehand? \n",
    "\n",
    "Previously, we created the dictionary `{'4+': 0, '9+': 0, '12+': 0, '17+': 0}` before we looped over the dataset to count the occurrence of each content rating. Unfortunately, this approach requires us to know the unique values we want to count beforehand.\n",
    "\n",
    "If we don't know the unique content ratings, then we don't have enough information to create the dictionary `{'4+': 0, '9+': 0, '12+': 0, '17+': 0}`. We need a way to extract this information.\n",
    "\n",
    "Our dataset has `7,197` rows and it's impractical to go over each row and to determine the unique content ratings. As a workaround, we can modify the logic of the code we used on the previous screen to find the unique values automatically.\n",
    "\n",
    "Let us use this technique:\n",
    "\n",
    "\n",
    "Count the number of times each unique content rating occurs in the dataset while finding the unique values automatically.\n",
    "\n",
    "1. Create an empty dictionary named `content_ratings`.\n",
    "\n",
    "\n",
    "2. Loop through the `apps_data` list of lists (don't include the header row). For each iteration of the loop, complete the following:\n",
    "    - Assign the content rating value to a variable named `c_rating`. The content rating is at index number `10`.\n",
    "    - Check if `c_rating` exists as a key in content_ratings.\n",
    "    - If it exists, then increment the dictionary value at that key by `1` (the key is equivalent to the value stored in `c_rating`).\n",
    "    - Create a new key-value pair in the dictionary, where the dictionary key is `c_rating` and the dictionary value is `1`.\n",
    "\n",
    "\n",
    "3. Outside the loop, print `content_ratings` to check if the counting worked as expected."
   ]
  },
  {
   "cell_type": "code",
   "execution_count": 19,
   "id": "bbf45150",
   "metadata": {},
   "outputs": [
    {
     "name": "stdout",
     "output_type": "stream",
     "text": [
      "{'4+': 4433, '12+': 1155, '17+': 622, '9+': 987}\n"
     ]
    }
   ],
   "source": [
    "opened_file = open('../data/AppleStore.csv', encoding=\"utf-8\")\n",
    "from csv import reader\n",
    "read_file = reader(opened_file)\n",
    "apps_data = list(read_file)\n",
    "\n",
    "content_ratings = {}\n",
    "\n",
    "for row in apps_data[1:]:\n",
    "    c_rating = row[10]\n",
    "    if c_rating in content_ratings:\n",
    "        content_ratings[c_rating] += 1\n",
    "    else:\n",
    "        content_ratings[c_rating] = 1\n",
    "        \n",
    "print(content_ratings)"
   ]
  },
  {
   "cell_type": "markdown",
   "id": "384a2285",
   "metadata": {},
   "source": [
    "### Practice: Count the Number of Apps in Each Genre\n",
    "\n",
    "Count the number of times each unique genre occurs.\n",
    "\n",
    "1. Create an empty dictionary named `genre_counting`.\n",
    "\n",
    "\n",
    "2. Loop through the `apps_data` list of lists (don't include the header row). For each iteration of the loop, do the following:\n",
    "    - Assign the genre to a variable named `genre`. The genre comes as a string and has the index number `11`.\n",
    "    - Check if genre exists as a key in `genre_counting`.\n",
    "    - If it exists, then increment the dictionary value at that key by `1` (the key is equivalent to the value stored in genre). \n",
    "    - Else, create a new key-value pair in the dictionary, where the dictionary key is genre and the dictionary value is `1`.\n",
    "\n",
    "\n",
    "3. Outside the loop, print `genre_counting` and try to determine the most common app genre in our dataset."
   ]
  },
  {
   "cell_type": "code",
   "execution_count": 20,
   "id": "b59c33ef",
   "metadata": {},
   "outputs": [
    {
     "name": "stdout",
     "output_type": "stream",
     "text": [
      "{'Games': 3862, 'Productivity': 178, 'Weather': 72, 'Shopping': 122, 'Reference': 64, 'Finance': 104, 'Music': 138, 'Utilities': 248, 'Travel': 81, 'Social Networking': 167, 'Sports': 114, 'Business': 57, 'Health & Fitness': 180, 'Entertainment': 535, 'Photo & Video': 349, 'Navigation': 46, 'Education': 453, 'Lifestyle': 144, 'Food & Drink': 63, 'News': 75, 'Book': 112, 'Medical': 23, 'Catalogs': 10}\n"
     ]
    }
   ],
   "source": [
    "opened_file = open('../data/AppleStore.csv', encoding=\"utf-8\")\n",
    "from csv import reader\n",
    "read_file = reader(opened_file)\n",
    "apps_data = list(read_file)\n",
    "\n",
    "genre_counting = {}\n",
    "\n",
    "for row in apps_data[1:]:\n",
    "    genre = row[11]    \n",
    "    if genre in genre_counting:\n",
    "        genre_counting[genre] += 1\n",
    "    else:\n",
    "        genre_counting[genre] = 1\n",
    "        \n",
    "print(genre_counting)\n",
    "\n",
    "# The most common app genre is 'Games' (there are 3862 gaming apps)"
   ]
  },
  {
   "cell_type": "markdown",
   "id": "7bb4e4ab",
   "metadata": {},
   "source": [
    "### Practice\n",
    "\n",
    "Try to use the knowledge acquired to answer these questions\n",
    "\n",
    "#### What are the unique genres in the dataset, and how many apps belong to each genre?\n",
    "\n",
    "```pseudocode\n",
    "Open the file \n",
    "Initialize an empty dictionary called genre_counts.\n",
    "\n",
    "For each row in the file:\n",
    "    Extract the 'prime_genre' value from the row.\n",
    "    Check if the genre is already a key in the genre_counts dictionary:\n",
    "        If yes, increment the count associated with that genre by 1.\n",
    "        If no, add a new key-value pair with the genre as the key and set the count to 1.\n",
    "\n",
    "For each genre, count pair in the genre_counts dictionary:\n",
    "    Print the genre and the count in the format \"{genre}: {count} apps\".\n",
    "\n",
    "```\n"
   ]
  },
  {
   "cell_type": "code",
   "execution_count": 21,
   "id": "9b4c9499",
   "metadata": {},
   "outputs": [
    {
     "name": "stdout",
     "output_type": "stream",
     "text": [
      "Games: 3862 apps\n",
      "Productivity: 178 apps\n",
      "Weather: 72 apps\n",
      "Shopping: 122 apps\n",
      "Reference: 64 apps\n",
      "Finance: 104 apps\n",
      "Music: 138 apps\n",
      "Utilities: 248 apps\n",
      "Travel: 81 apps\n",
      "Social Networking: 167 apps\n",
      "Sports: 114 apps\n",
      "Business: 57 apps\n",
      "Health & Fitness: 180 apps\n",
      "Entertainment: 535 apps\n",
      "Photo & Video: 349 apps\n",
      "Navigation: 46 apps\n",
      "Education: 453 apps\n",
      "Lifestyle: 144 apps\n",
      "Food & Drink: 63 apps\n",
      "News: 75 apps\n",
      "Book: 112 apps\n",
      "Medical: 23 apps\n",
      "Catalogs: 10 apps\n"
     ]
    }
   ],
   "source": [
    "import csv\n",
    "\n",
    "with open('../data/AppleStore.csv', mode='r', encoding='utf-8') as file:\n",
    "    reader = csv.DictReader(file)\n",
    "    \n",
    "    # Dictionary to store genre counts\n",
    "    genre_counts = {}\n",
    "    \n",
    "    for row in reader:\n",
    "        genre = row['prime_genre']\n",
    "        if genre in genre_counts:\n",
    "            genre_counts[genre] += 1\n",
    "        else:\n",
    "            genre_counts[genre] = 1\n",
    "\n",
    "# Displaying unique genres and their counts\n",
    "for genre, count in genre_counts.items():\n",
    "    print(f\"{genre}: {count} apps\")\n"
   ]
  },
  {
   "cell_type": "markdown",
   "id": "6acafe83",
   "metadata": {},
   "source": [
    "### A picture is worth a thousand words\n",
    "\n",
    "`matplotlib` is a widely used data visualization library in Python. Its role is to provide a convenient and flexible way to create a variety of plots and charts, allowing users to visually explore and analyze data.\n",
    "\n",
    "We can use it to create a bar chart displaying the number of apps in each genre by\n",
    "\n",
    "- Using Matplotlib to create a horizontal bar chart.\n",
    "- Settting the figure size, labels, and title for improved clarity.\n",
    "- Retreiving the data from the dictionary\n",
    "- Displaying the results"
   ]
  },
  {
   "cell_type": "code",
   "execution_count": 22,
   "id": "b94cdd64",
   "metadata": {},
   "outputs": [
    {
     "data": {
      "image/png": "[encoded data removed]",
      "text/plain": [
       "<Figure size 1000x600 with 1 Axes>"
      ]
     },
     "metadata": {},
     "output_type": "display_data"
    }
   ],
   "source": [
    "import matplotlib.pyplot as plt\n",
    "\n",
    "genres = list(genre_counts.keys())\n",
    "app_counts = list(genre_counts.values())\n",
    "\n",
    "plt.figure(figsize=(10, 6))\n",
    "plt.barh(genres, app_counts, color='skyblue')\n",
    "plt.xlabel('Number of Apps')\n",
    "plt.ylabel('Genres')\n",
    "plt.title('Number of Apps in Each Genre')\n",
    "plt.show()"
   ]
  },
  {
   "cell_type": "markdown",
   "id": "4ba230b5",
   "metadata": {},
   "source": [
    "#### What is the average user rating for each genre?\n",
    "\n",
    "```\n",
    "Open 'AppleStore.csv' file \n",
    "Initialize empty dictionaries: genre_ratings and genre_counts.\n",
    "\n",
    "For each row in the CSV file:\n",
    "    Extract 'prime_genre' and 'user_rating' values from the row.\n",
    "    If the genre is already in genre_ratings:\n",
    "        Increment the total rating and count associated with that genre.\n",
    "    Else:\n",
    "        Add a new key-value pair for the genre with initial total rating and count.\n",
    "\n",
    "For each genre, total rating pair in genre_ratings:\n",
    "    Calculate the average rating.\n",
    "    Print the genre and its average rating formatted to two decimal places.\n",
    "\n",
    "```"
   ]
  },
  {
   "cell_type": "code",
   "execution_count": 23,
   "id": "d2cf57b2",
   "metadata": {},
   "outputs": [
    {
     "name": "stdout",
     "output_type": "stream",
     "text": [
      "Games: Average Rating - 3.69\n",
      "Productivity: Average Rating - 4.01\n",
      "Weather: Average Rating - 3.60\n",
      "Shopping: Average Rating - 3.54\n",
      "Reference: Average Rating - 3.45\n",
      "Finance: Average Rating - 2.43\n",
      "Music: Average Rating - 3.98\n",
      "Utilities: Average Rating - 3.28\n",
      "Travel: Average Rating - 3.38\n",
      "Social Networking: Average Rating - 2.99\n",
      "Sports: Average Rating - 2.98\n",
      "Business: Average Rating - 3.75\n",
      "Health & Fitness: Average Rating - 3.70\n",
      "Entertainment: Average Rating - 3.25\n",
      "Photo & Video: Average Rating - 3.80\n",
      "Navigation: Average Rating - 2.68\n",
      "Education: Average Rating - 3.38\n",
      "Lifestyle: Average Rating - 2.81\n",
      "Food & Drink: Average Rating - 3.18\n",
      "News: Average Rating - 2.98\n",
      "Book: Average Rating - 2.48\n",
      "Medical: Average Rating - 3.37\n",
      "Catalogs: Average Rating - 2.10\n"
     ]
    }
   ],
   "source": [
    "import csv\n",
    "\n",
    "with open('../data/AppleStore.csv', mode='r', encoding='utf-8') as file:\n",
    "    reader = csv.DictReader(file)\n",
    "    \n",
    "    # Dictionary to store genre-wise user ratings\n",
    "    genre_ratings = {}\n",
    "    genre_counts = {}\n",
    "    \n",
    "    for row in reader:\n",
    "        genre = row['prime_genre']\n",
    "        rating = float(row['user_rating'])\n",
    "        \n",
    "        if genre in genre_ratings:\n",
    "            genre_ratings[genre] += rating\n",
    "            genre_counts[genre] += 1\n",
    "        else:\n",
    "            genre_ratings[genre] = rating\n",
    "            genre_counts[genre] = 1\n",
    "\n",
    "# Calculating and displaying average ratings for each genre\n",
    "for genre, total_rating in genre_ratings.items():\n",
    "    average_rating = total_rating / genre_counts[genre]\n",
    "    print(f\"{genre}: Average Rating - {average_rating:.2f}\")\n"
   ]
  },
  {
   "cell_type": "markdown",
   "id": "eed066c0",
   "metadata": {},
   "source": [
    "#### Let's visualize the data again"
   ]
  },
  {
   "cell_type": "code",
   "execution_count": 24,
   "id": "48246ab7",
   "metadata": {},
   "outputs": [
    {
     "data": {
      "image/png": "[encoded data removed]",
      "text/plain": [
       "<Figure size 1200x600 with 1 Axes>"
      ]
     },
     "metadata": {},
     "output_type": "display_data"
    }
   ],
   "source": [
    "# Calculating average ratings for each genre\n",
    "average_ratings = {}\n",
    "\n",
    "for genre in genre_ratings:\n",
    "    average_ratings[genre] = genre_ratings[genre] / genre_counts[genre]\n",
    "    \n",
    "# Sorting genres based on average ratings\n",
    "sorted_genres = sorted(average_ratings.keys(), key=lambda x: average_ratings[x], reverse=True)\n",
    "\n",
    "# Plotting the bar chart\n",
    "plt.figure(figsize=(12, 6))\n",
    "plt.bar(sorted_genres, [average_ratings[genre] for genre in sorted_genres], color='lightblue')\n",
    "plt.xlabel('Genres')\n",
    "plt.ylabel('Average User Rating')\n",
    "plt.title('Average User Rating for Each Genre')\n",
    "plt.xticks(rotation=45, ha='right')\n",
    "plt.show()"
   ]
  },
  {
   "cell_type": "markdown",
   "id": "bc74b208",
   "metadata": {},
   "source": [
    "#### What are the top 5 apps with the highest user ratings?\n",
    "\n",
    "```\n",
    "Open 'AppleStore.csv' file \n",
    "Initialize an empty list called 'apps'.\n",
    "\n",
    "For each row in the CSV file:\n",
    "    Extract 'track_name' and 'user_rating' values from the row.\n",
    "    Create a dictionary 'app' with keys 'name' and 'user_rating', and append it to 'apps'.\n",
    "\n",
    "Sort 'apps' based on 'user_rating' in descending order and take the top 5.\n",
    "For each app in the top 5:\n",
    "    Print the app name and user rating.\n",
    "```\n"
   ]
  },
  {
   "cell_type": "code",
   "execution_count": 25,
   "id": "77c985f8",
   "metadata": {},
   "outputs": [
    {
     "name": "stdout",
     "output_type": "stream",
     "text": [
      ":) Sudoku +: User Rating - 5.0\n",
      "King of Dragon Pass: User Rating - 5.0\n",
      "TurboScan™ Pro - document & receipt scanner: scan multiple pages and photos to PDF: User Rating - 5.0\n",
      "Plants vs. Zombies: User Rating - 5.0\n",
      "Learn to Speak Spanish Fast With MosaLingua: User Rating - 5.0\n"
     ]
    }
   ],
   "source": [
    "import csv\n",
    "\n",
    "with open('../data/AppleStore.csv', mode='r', encoding='utf-8') as file:\n",
    "    reader = csv.DictReader(file)\n",
    "    \n",
    "    apps = []\n",
    "    \n",
    "    for row in reader:\n",
    "        app = {\n",
    "            'name': row['track_name'],\n",
    "            'user_rating': float(row['user_rating'])\n",
    "        }\n",
    "        apps.append(app)\n",
    "\n",
    "top_apps = sorted(apps, key=lambda x: x['user_rating'], reverse=True)[:5]\n",
    "for app in top_apps:\n",
    "    print(f\"{app['name']}: User Rating - {app['user_rating']}\")\n"
   ]
  },
  {
   "cell_type": "code",
   "execution_count": 26,
   "id": "497876db",
   "metadata": {},
   "outputs": [
    {
     "data": {
      "image/png": "[encoded data removed]",
      "text/plain": [
       "<Figure size 1000x600 with 1 Axes>"
      ]
     },
     "metadata": {},
     "output_type": "display_data"
    }
   ],
   "source": [
    "# Sorting apps based on user ratings to get the top 5\n",
    "top_apps = sorted(apps, key=lambda x: x['user_rating'], reverse=True)[:5]\n",
    "\n",
    "# Extracting data for plotting\n",
    "app_names = [app['name'] for app in top_apps]\n",
    "user_ratings = [app['user_rating'] for app in top_apps]\n",
    "\n",
    "# Plotting the horizontal bar chart\n",
    "plt.figure(figsize=(10, 6))\n",
    "plt.barh(app_names, user_ratings, color='lightblue')\n",
    "plt.xlabel('User Rating')\n",
    "plt.title('Top 5 Apps with the Highest User Ratings')\n",
    "plt.show()"
   ]
  },
  {
   "cell_type": "markdown",
   "id": "99951415",
   "metadata": {},
   "source": [
    "#### How many apps are there in each price category (Free, Paid)?\n",
    "\n",
    "```\n",
    "Open 'AppleStore.csv' file\n",
    "Initialize a dictionary 'price_counts' with keys 'Free' and 'Paid', both set to 0.\n",
    "price_counts = {'Free': 0, 'Paid': 0}\n",
    "\n",
    "For each row in the CSV file\n",
    "    Extract the 'price' value and convert it to a float.\n",
    "    If the price is 0:\n",
    "        Increment the count of 'Free' apps.\n",
    "    Else:\n",
    "        Increment the count of 'Paid' apps.\n",
    "\n",
    "For each price category, count pair in 'price_counts':\n",
    "    Print the price category and its corresponding app count.\n",
    "```"
   ]
  },
  {
   "cell_type": "code",
   "execution_count": 27,
   "id": "c6448cd4",
   "metadata": {},
   "outputs": [
    {
     "name": "stdout",
     "output_type": "stream",
     "text": [
      "Free Apps: 4056\n",
      "Paid Apps: 3141\n"
     ]
    }
   ],
   "source": [
    "import csv\n",
    "\n",
    "with open('../data/AppleStore.csv', mode='r', encoding='utf-8') as file:\n",
    "    reader = csv.DictReader(file)\n",
    "    \n",
    "    price_counts = {'Free': 0, 'Paid': 0}\n",
    "    \n",
    "    for row in reader:\n",
    "        price = float(row['price'])\n",
    "        if price == 0:\n",
    "            price_counts['Free'] += 1\n",
    "        else:\n",
    "            price_counts['Paid'] += 1\n",
    "\n",
    "# Displaying counts of free and paid apps\n",
    "for price, count in price_counts.items():\n",
    "    print(f\"{price} Apps: {count}\")\n"
   ]
  },
  {
   "cell_type": "code",
   "execution_count": 28,
   "id": "3b1c9d02",
   "metadata": {},
   "outputs": [
    {
     "data": {
      "image/png": "[encoded data removed]",
      "text/plain": [
       "<Figure size 800x500 with 1 Axes>"
      ]
     },
     "metadata": {},
     "output_type": "display_data"
    }
   ],
   "source": [
    "# Plotting the bar chart\n",
    "plt.figure(figsize=(8, 5))\n",
    "plt.bar(price_counts.keys(), price_counts.values(), color=['skyblue', 'lightcoral'])\n",
    "plt.xlabel('App Type')\n",
    "plt.ylabel('Number of Apps')\n",
    "plt.title('Number of Free and Paid Apps')\n",
    "plt.show()"
   ]
  },
  {
   "cell_type": "markdown",
   "id": "83a8eddf",
   "metadata": {},
   "source": [
    "#### What are the top 3 genres with the highest average user ratings\n",
    "\n",
    "```\n",
    "Open 'AppleStore.csv' file \n",
    "Initialize an empty dictionary called 'genre_data' to store genre-wise user ratings.\n",
    "\n",
    "For each row in the CSV file\n",
    "    Extract 'prime_genre' and 'user_rating' values from the row.\n",
    "    If the genre is already in 'genre_data':\n",
    "        Increment the total rating and count associated with that genre.\n",
    "    Else:\n",
    "        Add a new key-value pair for the genre with initial total rating and count.\n",
    "\n",
    "Calculate and display the average ratings for the top 3 genres with the highest averages:\n",
    "    Sort genres based on average ratings in descending order.\n",
    "    For each genre in the top 3:\n",
    "        Calculate the average rating.\n",
    "        Print the genre and its average rating formatted to two decimal places.\n",
    "\n",
    "```"
   ]
  },
  {
   "cell_type": "code",
   "execution_count": 29,
   "id": "6bd87095",
   "metadata": {},
   "outputs": [
    {
     "name": "stdout",
     "output_type": "stream",
     "text": [
      "Productivity: Average Rating - 4.01\n",
      "Music: Average Rating - 3.98\n",
      "Photo & Video: Average Rating - 3.80\n"
     ]
    }
   ],
   "source": [
    "import csv\n",
    "\n",
    "with open('../data/AppleStore.csv', mode='r', encoding='utf-8') as file:\n",
    "    reader = csv.DictReader(file)\n",
    "\n",
    "    # Dictionary to store genre-wise user ratings\n",
    "    genre_data = {}\n",
    "\n",
    "    for row in reader:\n",
    "        genre = row['prime_genre']\n",
    "        rating = float(row['user_rating'])\n",
    "\n",
    "        if genre in genre_data:\n",
    "            genre_data[genre]['total_rating'] += rating\n",
    "            genre_data[genre]['count'] += 1\n",
    "        else:\n",
    "            genre_data[genre] = {'total_rating': rating, 'count': 1}\n",
    "\n",
    "# Calculating and displaying the top 3 genres with the highest average user ratings\n",
    "top_genres = sorted(genre_data.keys(), key=lambda x: genre_data[x]['total_rating'] / genre_data[x]['count'], reverse=True)[:3]\n",
    "for genre in top_genres:\n",
    "    average_rating = genre_data[genre]['total_rating'] / genre_data[genre]['count']\n",
    "    print(f\"{genre}: Average Rating - {average_rating:.2f}\")\n"
   ]
  },
  {
   "cell_type": "code",
   "execution_count": 30,
   "id": "cf0b7780",
   "metadata": {},
   "outputs": [
    {
     "data": {
      "image/png": "[encoded data removed]",
      "text/plain": [
       "<Figure size 1400x600 with 1 Axes>"
      ]
     },
     "metadata": {},
     "output_type": "display_data"
    }
   ],
   "source": [
    "# Calculating average ratings for each genre\n",
    "average_ratings = {genre: genre_data[genre]['total_rating'] / genre_data[genre]['count'] for genre in genre_data}\n",
    "\n",
    "# Sorting genres based on average ratings\n",
    "sorted_genres = sorted(average_ratings.keys(), key=lambda x: average_ratings[x], reverse=True)\n",
    "\n",
    "# Plotting the bar chart for all genres\n",
    "plt.figure(figsize=(14, 6))\n",
    "plt.bar(sorted_genres, [average_ratings[genre] for genre in sorted_genres], color='lightblue')\n",
    "plt.xlabel('Genres')\n",
    "plt.ylabel('Average User Rating')\n",
    "plt.title('Average User Rating for All Genres')\n",
    "plt.xticks(rotation=45, ha='right')\n",
    "plt.show()"
   ]
  },
  {
   "cell_type": "code",
   "execution_count": null,
   "id": "344464f8",
   "metadata": {},
   "outputs": [],
   "source": []
  }
 ],
 "metadata": {
  "kernelspec": {
   "display_name": "Python 3 (ipykernel)",
   "language": "python",
   "name": "python3"
  },
  "language_info": {
   "codemirror_mode": {
    "name": "ipython",
    "version": 3
   },
   "file_extension": ".py",
   "mimetype": "text/x-python",
   "name": "python",
   "nbconvert_exporter": "python",
   "pygments_lexer": "ipython3",
   "version": "3.11.5"
  }
 },
 "nbformat": 4,
 "nbformat_minor": 5
}
