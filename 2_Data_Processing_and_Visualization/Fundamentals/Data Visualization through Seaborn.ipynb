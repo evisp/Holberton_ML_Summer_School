{
 "cells": [
  {
   "cell_type": "markdown",
   "id": "3f00118e",
   "metadata": {},
   "source": [
    "<img src=\"../../figs/holberton_logo.png\" alt=\"logo\" width=\"500\"/>\n",
    "\n",
    "# Seaborn for Data Visualization\n",
    "\n",
    "[Seaborn](https://seaborn.pydata.org/) is a Python data visualization library **built on top of Matplotlib** that provides a high-level interface for creating attractive statistical graphics. \n",
    "\n",
    "\n",
    "It **simplifies the process of generating complex visualizations** by abstracting away much of the boilerplate code required. Seaborn offers a wide range of statistical plots, including scatter plots, bar plots, and histograms, with built-in support for color palettes and aesthetic improvements."
   ]
  },
  {
   "cell_type": "markdown",
   "id": "23038d18",
   "metadata": {},
   "source": [
    "## Distribution Plots\n",
    "\n",
    "Let's discuss some plots that allow us to visualize the distribution of a data set. These plots are:\n",
    "\n",
    "* distplot\n",
    "* jointplot\n",
    "* pairplot\n",
    "* rugplot\n",
    "* kdeplot"
   ]
  },
  {
   "cell_type": "markdown",
   "id": "731d01e1",
   "metadata": {},
   "source": [
    "### Data\n",
    "\n",
    "But first, let us get some data. Seaborn comes with built-in data sets!\n",
    "\n",
    "The **tips** dataset in Seaborn is a collection of information about restaurant tips. It includes details such as the total bill amount, the tip amount, the day of the week, the time of day (lunch or dinner), the size of the dining party, and whether the diners were smokers or non-smokers."
   ]
  },
  {
   "cell_type": "code",
   "execution_count": null,
   "id": "fa93e417",
   "metadata": {},
   "outputs": [],
   "source": [
    "import seaborn as sns\n",
    "import matplotlib.pyplot as plt\n",
    "\n",
    "tips = sns.load_dataset('tips')\n",
    "\n",
    "print(f\"Dataset contains {tips.shape} records\")\n",
    "\n",
    "print(\"Here are the first 5\")\n",
    "tips.head()"
   ]
  },
  {
   "cell_type": "markdown",
   "id": "cb60ebc6",
   "metadata": {},
   "source": [
    "## Let's Visualize Some Data\n",
    "\n",
    "###  distplot\n",
    "\n",
    "The distplot shows the distribution of a univariate set of observations."
   ]
  },
  {
   "cell_type": "code",
   "execution_count": null,
   "id": "dc43d10f",
   "metadata": {},
   "outputs": [],
   "source": [
    "sns.displot(tips['total_bill'], \n",
    "            kde=True, \n",
    "            color='lightblue',\n",
    "            edgecolor = \"coral\"\n",
    "           )\n",
    "\n",
    "plt.title(\"Distribution of Total Bill Amounts\")\n",
    "plt.xlabel(\"Total Bill ($)\")\n",
    "plt.ylabel(\"Frequency\")"
   ]
  },
  {
   "cell_type": "markdown",
   "id": "f06bb0f6",
   "metadata": {},
   "source": [
    "### jointplot\n",
    "\n",
    "`jointplot()` allows you to basically match up two distplots for bivariate data. With your choice of what **kind** parameter to compare with: \n",
    "* “scatter” \n",
    "* “reg” \n",
    "* “resid” \n",
    "* “kde” \n",
    "* “hex”\n",
    "\n",
    "\n",
    "\n",
    "We are creating a joint plot to **visualize the relationship between two variables: `total_bill` and `tip`**. By specifying `total_bill` as the x-axis variable and `tip` as the y-axis variable, we *examine how the tip amount varies with the total bill amount*. The `kind` parameter is set to `hex`, indicating that the joint plot will display hexagonal binning to represent the density of data points."
   ]
  },
  {
   "cell_type": "code",
   "execution_count": null,
   "id": "c8ed0ef6",
   "metadata": {},
   "outputs": [],
   "source": [
    "sns.jointplot(\n",
    "    x='total_bill',\n",
    "    y='tip',data=tips,\n",
    "    kind='hex',\n",
    "    color = 'skyblue'\n",
    ")\n",
    "\n",
    "# add the title above the entire figure\n",
    "plt.suptitle(\"Distribution of Total Bill Amounts\", y=1.02)\n",
    "plt.xlabel(\"Total Bill ($)\")\n",
    "plt.ylabel(\"Tip\")\n",
    "plt.show()"
   ]
  },
  {
   "cell_type": "markdown",
   "id": "8019bd12",
   "metadata": {},
   "source": [
    "### Explore relationship between the total bill and the tip\n",
    "\n",
    "To better understand the relationship between `total_bill` and `tip` in the dataset, we can use a scatter plot with regression line. It visually depicts how the tip amount varies with the total bill, providing insights into potential correlations and patterns in the data"
   ]
  },
  {
   "cell_type": "code",
   "execution_count": null,
   "id": "1e1aca1f",
   "metadata": {},
   "outputs": [],
   "source": [
    "sns.lmplot(x=\"total_bill\", y=\"tip\", data=tips, \n",
    "           scatter_kws={\"color\": \"skyblue\", \"alpha\": 0.5, \"s\": 20},          # Adjust marker color, transparency, and size\n",
    "           line_kws={\"color\": \"orange\", \"linestyle\": \"--\", \"linewidth\": 2})  # Adjust regression line color, style, and width\n",
    "\n",
    "plt.title(\"Relationship Between Total Bill and Tip Amount\")\n",
    "plt.xlabel(\"Total Bill ($)\")\n",
    "plt.ylabel(\"Tip Amount ($)\")\n",
    "\n",
    "plt.show()"
   ]
  },
  {
   "cell_type": "markdown",
   "id": "ec9e6921",
   "metadata": {},
   "source": [
    "###  pairplot\n",
    "\n",
    "pairplot will plot pairwise relationships across an entire dataframe (for the numerical columns) and supports a color hue argument (for categorical columns). \n",
    "\n",
    "We are creating a pair plot to **visualize the relationships between different pairs of variables in the `tips` dataset**. Each variable is compared with every other variable, and scatterplots are created to show the relationships. \n",
    "\n",
    "\n",
    "Additionally, the data points are colored based on the `sex` variable, with different colors representing different genders. This visualization technique helps in understanding the patterns and correlations between variables and how they may vary based on gender"
   ]
  },
  {
   "cell_type": "code",
   "execution_count": null,
   "id": "40ced1ac",
   "metadata": {},
   "outputs": [],
   "source": [
    "sns.pairplot(tips,\n",
    "             hue='sex',\n",
    "             palette='coolwarm'\n",
    "            )\n",
    "\n",
    "plt.suptitle(\"Relationships Between All Variables of Tips Dataset\", y=1.02)\n",
    "plt.tight_layout()\n",
    "plt.show()"
   ]
  },
  {
   "cell_type": "markdown",
   "id": "e5ff3147",
   "metadata": {},
   "source": [
    "## Categorical plots\n",
    "\n",
    "Now let's discuss using seaborn to plot categorical data! \n",
    "\n",
    "Categorical plots are **types of statistical visualizations that are used to represent the relationship between one categorical variable and one numerical variable or two categorical variables**. \n",
    "\n",
    "*A categorical variable is a type of variable that represents qualitative data and can take on a limited number of distinct categories or groups*. \n",
    "\n",
    "They are particularly useful for visualizing and understanding the distribution, relationships, and patterns within categorical data. \n",
    "\n",
    "There are a few main plot types for this:\n",
    "\n",
    "* factorplot\n",
    "* boxplot\n",
    "* violinplot\n",
    "* stripplot\n",
    "* swarmplot\n",
    "* barplot\n",
    "* countplot\n",
    "\n",
    "Let's go through some examples."
   ]
  },
  {
   "cell_type": "markdown",
   "id": "827ed81d",
   "metadata": {},
   "source": [
    "### barplot and countplot\n",
    "\n",
    "These very similar plots allow you to get aggregate data off a categorical feature in your data. **barplot** is a general plot that allows you to aggregate the categorical data based off some function, by default the mean. \n",
    "\n",
    "Here, we are creating a bar plot **to visualize the relationship between two variables: `sex` and `total_bill`**. \n",
    "\n",
    "The bar plot displays the average value of `total_bill` for each category of `sex`, with bars representing the mean value and error bars indicating the uncertainty or variability. "
   ]
  },
  {
   "cell_type": "code",
   "execution_count": null,
   "id": "7c7c5dda",
   "metadata": {},
   "outputs": [],
   "source": [
    "sns.barplot(\n",
    "    x='sex',\n",
    "    y='total_bill',\n",
    "    palette = {'Male': 'lightblue', 'Female': 'lightcoral'},\n",
    "    data=tips\n",
    ")\n",
    "\n",
    "plt.title(\"Average total bill for each gender\")\n",
    "plt.xlabel(\"Gender\")\n",
    "plt.ylabel(\"Average total bill\")\n",
    "plt.show()"
   ]
  },
  {
   "cell_type": "markdown",
   "id": "d302301a",
   "metadata": {},
   "source": [
    "### countplot\n",
    "\n",
    "This is essentially the same as barplot except the estimator is explicitly counting the number of occurrences. Which is why we only pass the x value:"
   ]
  },
  {
   "cell_type": "code",
   "execution_count": null,
   "id": "e41fe5e7",
   "metadata": {},
   "outputs": [],
   "source": [
    "sns.countplot(\n",
    "    x='sex',\n",
    "    palette = {'Male': 'lightblue', 'Female': 'lightcoral'},\n",
    "    data=tips)\n",
    "\n",
    "plt.title(\"Total number of bills for each gender\")\n",
    "plt.xlabel(\"Gender\")\n",
    "plt.ylabel(\"Total number of bills\")\n",
    "plt.show()"
   ]
  },
  {
   "cell_type": "markdown",
   "id": "f590d4ae",
   "metadata": {},
   "source": [
    "### boxplot and violinplot\n",
    "\n",
    "boxplots and violinplots are used to shown the distribution of categorical data. A box plot (or box-and-whisker plot) shows the distribution of quantitative data in a way that facilitates comparisons between variables or across levels of a categorical variable. The box shows the quartiles of the dataset while the whiskers extend to show the rest of the distribution, except for points that are determined to be “outliers” using a method that is a function of the inter-quartile range\n",
    "\n",
    "\n",
    "In our case, each box represents the interquartile range (IQR) of the `total_bill` values for a specific day, with the median indicated by the horizontal line inside the box. Additionally, whiskers extend from the box to indicate the range of the data, and outliers are represented as individual points beyond the whiskers. "
   ]
  },
  {
   "cell_type": "code",
   "execution_count": null,
   "id": "3803aece",
   "metadata": {},
   "outputs": [],
   "source": [
    "sns.boxplot(\n",
    "    x=\"day\", \n",
    "    y=\"total_bill\", \n",
    "    data=tips,\n",
    "    palette='coolwarm')\n",
    "\n",
    "plt.title(\"Total Bill Amounts by Day\")\n",
    "plt.xlabel(\"Day\")\n",
    "plt.ylabel(\"Total Bill ($)\")\n",
    "\n",
    "plt.show()"
   ]
  },
  {
   "cell_type": "code",
   "execution_count": null,
   "id": "2b31b6e8",
   "metadata": {},
   "outputs": [],
   "source": [
    "sns.boxplot(\n",
    "    x=\"day\", \n",
    "    y=\"total_bill\", \n",
    "    hue = 'smoker',\n",
    "    data=tips,\n",
    "    palette='coolwarm')\n",
    "\n",
    "plt.title(\"Total Bill Amounts by Day: Smoker vs Non-Smoker\")\n",
    "plt.xlabel(\"Day\")\n",
    "plt.ylabel(\"Total Bill ($)\")\n",
    "\n",
    "plt.show()"
   ]
  },
  {
   "cell_type": "markdown",
   "id": "4b48123b",
   "metadata": {},
   "source": [
    "### violinplot\n",
    "A violin plot plays a similar role as a box and whisker plot. It shows the distribution of quantitative data across several levels of one (or more) categorical variables such that those distributions can be compared. Unlike a box plot, in which all of the plot components correspond to actual datapoints, the violin plot features a kernel density estimation of the underlying distribution."
   ]
  },
  {
   "cell_type": "code",
   "execution_count": null,
   "id": "d71d776c",
   "metadata": {},
   "outputs": [],
   "source": [
    "sns.violinplot(x=\"day\", y=\"total_bill\", data=tips,palette='coolwarm')"
   ]
  },
  {
   "cell_type": "code",
   "execution_count": null,
   "id": "8acf6167",
   "metadata": {},
   "outputs": [],
   "source": [
    "sns.violinplot(\n",
    "    x=\"day\", \n",
    "    y=\"total_bill\", \n",
    "    data=tips,\n",
    "    hue='sex',\n",
    "    split=True,\n",
    "    palette='coolwarm')\n",
    "\n",
    "plt.legend(loc='upper left')\n",
    "plt.show()"
   ]
  },
  {
   "cell_type": "markdown",
   "id": "a6fe6017",
   "metadata": {},
   "source": [
    "## Matrix Plots\n",
    "\n",
    "Matrix plots allow you to plot data as color-encoded matrices and can also be used to indicate clusters within the data (later in the machine learning section we will learn how to formally cluster data).\n",
    "\n",
    "Let's begin by exploring seaborn's heatmap. \n",
    "\n",
    "We are creating a correlation heatmap **to visualize the correlation between numerical variables in the `tips` dataset**. This heatmap represents the strength and direction of linear relationships between pairs of variables, with warmer colors indicating stronger positive correlations, cooler colors indicating stronger negative correlations, and white indicating no correlation. The annotations on the heatmap display the correlation coefficients"
   ]
  },
  {
   "cell_type": "code",
   "execution_count": null,
   "id": "912d80f1",
   "metadata": {},
   "outputs": [],
   "source": [
    "# Select numerical variables\n",
    "numerical_vars = tips.select_dtypes(include=['float64', 'int64'])\n",
    "\n",
    "# Calculate correlation matrix\n",
    "correlation_matrix = numerical_vars.corr()\n",
    "\n",
    "# Create a heatmap\n",
    "sns.heatmap(\n",
    "    correlation_matrix, \n",
    "    annot=True, \n",
    "    cmap=\"coolwarm\", \n",
    "    fmt=\".2f\")\n",
    "\n",
    "plt.title(\"Correlation Heatmap of Numerical Variables\")\n",
    "\n",
    "plt.show()"
   ]
  },
  {
   "cell_type": "markdown",
   "id": "6885ad9a",
   "metadata": {},
   "source": [
    "### Happy coding"
   ]
  }
 ],
 "metadata": {
  "kernelspec": {
   "display_name": "Python 3 (ipykernel)",
   "language": "python",
   "name": "python3"
  },
  "language_info": {
   "codemirror_mode": {
    "name": "ipython",
    "version": 3
   },
   "file_extension": ".py",
   "mimetype": "text/x-python",
   "name": "python",
   "nbconvert_exporter": "python",
   "pygments_lexer": "ipython3",
   "version": "3.11.5"
  }
 },
 "nbformat": 4,
 "nbformat_minor": 5
}
