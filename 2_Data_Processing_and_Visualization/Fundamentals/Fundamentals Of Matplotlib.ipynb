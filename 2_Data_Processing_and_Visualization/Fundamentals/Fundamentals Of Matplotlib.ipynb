{
 "cells": [
  {
   "cell_type": "markdown",
   "id": "b4dbd8c2",
   "metadata": {},
   "source": [
    "<img src=\"../../figs/holberton_logo.png\" alt=\"logo\" width=\"500\"/>\n",
    "\n",
    "# Plotting\n",
    "\n",
    "## Introduction\n",
    "\n",
    "Matplotlib is the \"grandfather\" library of data visualization with Python. It is an excellent 2D and 3D graphics library for generating scientific figures. \n",
    "\n",
    "Some of the major Pros of Matplotlib are:\n",
    "\n",
    "* Generally easy to get started for simple plots\n",
    "* Support for custom labels and texts\n",
    "* Great control of every element in a figure\n",
    "* High-quality output in many formats\n",
    "* Very customizable in general\n",
    "\n",
    "Matplotlib allows you to create reproducible figures programmatically. You can also explore the official Matplotlib web page: http://matplotlib.org/\n",
    "\n",
    "## Importing\n",
    "\n",
    "Import the `matplotlib.pyplot` module under the name `plt` (the tidy way):\n"
   ]
  },
  {
   "cell_type": "code",
   "execution_count": null,
   "id": "acc76364",
   "metadata": {},
   "outputs": [],
   "source": [
    "import matplotlib.pyplot as plt"
   ]
  },
  {
   "cell_type": "markdown",
   "id": "d1ce2760",
   "metadata": {},
   "source": [
    "You'll also need to use this line to see plots in the notebook:"
   ]
  },
  {
   "cell_type": "code",
   "execution_count": null,
   "id": "36644e77",
   "metadata": {},
   "outputs": [],
   "source": [
    "%matplotlib inline"
   ]
  },
  {
   "cell_type": "markdown",
   "id": "46f43d66",
   "metadata": {},
   "source": [
    "That line is only for jupyter notebooks, if you are using another editor, you'll use: **plt.show()** at the end of all your plotting commands to have the figure pop up in another window."
   ]
  },
  {
   "cell_type": "markdown",
   "id": "cac1566b",
   "metadata": {},
   "source": [
    "## Basic Example\n",
    "\n",
    "Let's walk through a very simple example using two numpy arrays:\n",
    "\n",
    "### Example\n",
    "\n",
    "Let's walk through a very simple example using two numpy arrays. You can also use lists, but most likely you'll be passing numpy arrays or pandas columns (which essentially also behave like arrays).\n",
    "\n",
    "** The data we want to plot:**"
   ]
  },
  {
   "cell_type": "code",
   "execution_count": null,
   "id": "8778c283",
   "metadata": {},
   "outputs": [],
   "source": [
    "import numpy as np\n",
    "x = np.linspace(0, 5, 11)\n",
    "y = x ** 2\n",
    "\n",
    "print(x)\n",
    "print(y)"
   ]
  },
  {
   "cell_type": "markdown",
   "id": "c4155aad",
   "metadata": {},
   "source": [
    "## Basic Matplotlib Commands\n",
    "\n",
    "We can create a very simple line plot using the following ( I encourage you to pause and use Shift+Tab along the way to check out the document strings for the functions we are using)."
   ]
  },
  {
   "cell_type": "code",
   "execution_count": null,
   "id": "734de8d6",
   "metadata": {},
   "outputs": [],
   "source": [
    "plt.plot(x, y, 'r') # 'r' is the color red\n",
    "plt.xlabel('X Axis Title Here')\n",
    "plt.ylabel('Y Axis Title Here')\n",
    "plt.title('String Title Here')"
   ]
  },
  {
   "cell_type": "markdown",
   "id": "a1677c10",
   "metadata": {},
   "source": [
    "## Creating Multiplots on Same Canvas\n"
   ]
  },
  {
   "cell_type": "code",
   "execution_count": null,
   "id": "5569b5a0",
   "metadata": {},
   "outputs": [],
   "source": [
    "# plt.subplot(nrows, ncols, plot_number)\n",
    "plt.subplot(1,2,1)\n",
    "plt.plot(x, y, 'r--') # More on color options later\n",
    "plt.subplot(1,2,2)\n",
    "plt.plot(y, x, 'g*-');"
   ]
  },
  {
   "cell_type": "markdown",
   "id": "bca9260a",
   "metadata": {},
   "source": [
    "### subplots()\n",
    "\n",
    "The `plt.subplots()` object will act as a more automatic axis manager.\n",
    "\n",
    "Basic use cases:"
   ]
  },
  {
   "cell_type": "code",
   "execution_count": null,
   "id": "bcaa5f10",
   "metadata": {},
   "outputs": [],
   "source": [
    "# Use similar to plt.figure() except use tuple unpacking to grab fig and axes\n",
    "fig, axes = plt.subplots()\n",
    "\n",
    "# Now use the axes object to add stuff to plot\n",
    "axes.plot(x, y, 'r')\n",
    "axes.set_xlabel('x')\n",
    "axes.set_ylabel('y')\n",
    "axes.set_title('title');"
   ]
  },
  {
   "cell_type": "markdown",
   "id": "a8286a81",
   "metadata": {},
   "source": [
    "Then you can specify the number of rows and columns when creating the `subplots()` object:"
   ]
  },
  {
   "cell_type": "code",
   "execution_count": null,
   "id": "95b8a746",
   "metadata": {},
   "outputs": [],
   "source": [
    "# Empty canvas of 1 by 2 subplots\n",
    "fig, axes = plt.subplots(nrows=1, ncols=2)"
   ]
  },
  {
   "cell_type": "markdown",
   "id": "a948f72e",
   "metadata": {},
   "source": [
    "We can iterate through this array:"
   ]
  },
  {
   "cell_type": "code",
   "execution_count": null,
   "id": "807fde9c",
   "metadata": {},
   "outputs": [],
   "source": [
    "for ax in axes:\n",
    "    ax.plot(x, y, 'b')\n",
    "    ax.set_xlabel('x')\n",
    "    ax.set_ylabel('y')\n",
    "    ax.set_title('title')\n",
    "\n",
    "# Display the figure object    \n",
    "fig"
   ]
  },
  {
   "cell_type": "markdown",
   "id": "acb7eb04",
   "metadata": {},
   "source": [
    "A common issue with matplolib is overlapping subplots or figures. We ca use **fig.tight_layout()** or **plt.tight_layout()** method, which automatically adjusts the positions of the axes on the figure canvas so that there is no overlapping content:"
   ]
  },
  {
   "cell_type": "code",
   "execution_count": null,
   "id": "644af19a",
   "metadata": {},
   "outputs": [],
   "source": [
    "fig, axes = plt.subplots(nrows=1, ncols=2)\n",
    "\n",
    "for ax in axes:\n",
    "    ax.plot(x, y, 'g')\n",
    "    ax.set_xlabel('x')\n",
    "    ax.set_ylabel('y')\n",
    "    ax.set_title('title')\n",
    "\n",
    "fig    \n",
    "plt.tight_layout()"
   ]
  },
  {
   "cell_type": "markdown",
   "id": "a5019d7e",
   "metadata": {},
   "source": [
    "### Figure size, aspect ratio and DPI\n",
    "\n",
    "Matplotlib allows the aspect ratio, DPI and figure size to be specified when the Figure object is created. You can use the `figsize` and `dpi` keyword arguments. \n",
    "* `figsize` is a tuple of the width and height of the figure in inches\n",
    "* `dpi` is the dots-per-inch (pixel per inch). \n",
    "\n",
    "For example:"
   ]
  },
  {
   "cell_type": "code",
   "execution_count": null,
   "id": "39ebad2a",
   "metadata": {},
   "outputs": [],
   "source": [
    "fig = plt.figure(figsize=(8,4), dpi=100)"
   ]
  },
  {
   "cell_type": "markdown",
   "id": "0ddc7ca8",
   "metadata": {},
   "source": [
    "The same arguments can also be passed to layout managers, such as the `subplots` function:"
   ]
  },
  {
   "cell_type": "code",
   "execution_count": null,
   "id": "15831437",
   "metadata": {},
   "outputs": [],
   "source": [
    "fig, axes = plt.subplots(figsize=(12,3))\n",
    "\n",
    "axes.plot(x, y, 'r')\n",
    "axes.set_xlabel('x')\n",
    "axes.set_ylabel('y')\n",
    "axes.set_title('title')"
   ]
  },
  {
   "cell_type": "markdown",
   "id": "9975d803",
   "metadata": {},
   "source": [
    "## Saving figures\n",
    "Matplotlib can generate high-quality output in a number formats, including PNG, JPG, EPS, SVG, PGF and PDF. \n",
    "\n",
    "To save a figure to a file we can use the `savefig` method in the `Figure` class:"
   ]
  },
  {
   "cell_type": "code",
   "execution_count": null,
   "id": "02aab807",
   "metadata": {},
   "outputs": [],
   "source": [
    "fig.savefig(\"filename.png\")"
   ]
  },
  {
   "cell_type": "markdown",
   "id": "3872348a",
   "metadata": {},
   "source": [
    "### Legends, labels, titles\n",
    "\n",
    "Now that we have covered the basics of how to create a figure canvas and add axes instances to the canvas, let's look at how decorate a figure with titles, axis labels, and legends.\n",
    "\n",
    "**Figure titles**\n",
    "\n",
    "Titles can be added to each axis instance in a figure. To set the title, use the `set_title` method in the axes instance:"
   ]
  },
  {
   "cell_type": "code",
   "execution_count": null,
   "id": "05d5d548",
   "metadata": {},
   "outputs": [],
   "source": [
    "ax.set_title(\"title\");"
   ]
  },
  {
   "cell_type": "markdown",
   "id": "d38872af",
   "metadata": {},
   "source": [
    "**Axis labels**\n",
    "\n",
    "Similarly, with the methods `set_xlabel` and `set_ylabel`, we can set the labels of the X and Y axes:"
   ]
  },
  {
   "cell_type": "code",
   "execution_count": null,
   "id": "76bf9de2",
   "metadata": {},
   "outputs": [],
   "source": [
    "ax.set_xlabel(\"x\")\n",
    "ax.set_ylabel(\"y\");"
   ]
  },
  {
   "cell_type": "markdown",
   "id": "642b34aa",
   "metadata": {},
   "source": [
    "**Legend**\n",
    "\n",
    "You can use the **label=\"label text\"** keyword argument when plots or other objects are added to the figure, and then using the **legend** method without arguments to add the legend to the figure: "
   ]
  },
  {
   "cell_type": "code",
   "execution_count": null,
   "id": "1c716213",
   "metadata": {},
   "outputs": [],
   "source": [
    "fig = plt.figure()\n",
    "\n",
    "ax = fig.add_axes([0,0,1,1])\n",
    "\n",
    "ax.plot(x, x**2, label=\"x**2\")\n",
    "ax.plot(x, x**3, label=\"x**3\")\n",
    "ax.legend()"
   ]
  },
  {
   "cell_type": "markdown",
   "id": "741d1962",
   "metadata": {},
   "source": [
    "\n",
    "The **legend** function takes an optional keyword argument **loc** that can be used to specify where in the figure the legend is to be drawn. The allowed values of **loc** are numerical codes for the various places the legend can be drawn. See the [documentation page](http://matplotlib.org/users/legend_guide.html#legend-location) for details. Some of the most common **loc** values are:"
   ]
  },
  {
   "cell_type": "code",
   "execution_count": null,
   "id": "de6c7968",
   "metadata": {},
   "outputs": [],
   "source": [
    "# Lots of options....\n",
    "\n",
    "ax.legend(loc=1) # upper right corner\n",
    "ax.legend(loc=2) # upper left corner\n",
    "ax.legend(loc=3) # lower left corner\n",
    "ax.legend(loc=4) # lower right corner\n",
    "\n",
    "# .. many more options are available\n",
    "\n",
    "# Most common to choose\n",
    "ax.legend(loc=0) # let matplotlib decide the optimal location\n",
    "fig"
   ]
  },
  {
   "cell_type": "markdown",
   "id": "6dd803ac",
   "metadata": {},
   "source": [
    "## Setting colors, linewidths, linetypes\n",
    "\n",
    "Matplotlib gives you *a lot* of options for customizing colors, linewidths, and linetypes. \n",
    "\n",
    "There is the basic MATLAB like syntax (which I would suggest you avoid using for more clairty sake:"
   ]
  },
  {
   "cell_type": "markdown",
   "id": "196eb368",
   "metadata": {},
   "source": [
    "With matplotlib, we can define the colors of lines and other graphical elements in a number of ways. First of all, we can use the MATLAB-like syntax where `'b'` means blue, `'g'` means green, etc. The MATLAB API for selecting line styles are also supported: where, for example, 'b.-' means a blue line with dots:"
   ]
  },
  {
   "cell_type": "code",
   "execution_count": null,
   "id": "472c8302",
   "metadata": {},
   "outputs": [],
   "source": [
    "# MATLAB style line color and style \n",
    "fig, ax = plt.subplots()\n",
    "ax.plot(x, x**2, 'b.-') # blue line with dots\n",
    "ax.plot(x, x**3, 'g--') # green dashed line"
   ]
  },
  {
   "cell_type": "markdown",
   "id": "79b2e5e6",
   "metadata": {},
   "source": [
    "### Colors using the = paramter\n",
    "\n",
    "We can also define colors by their names or RGB hex codes and optionally provide an alpha value using the `color` and `alpha` keyword arguments. Alpha indicates opacity."
   ]
  },
  {
   "cell_type": "code",
   "execution_count": null,
   "id": "e89e82da",
   "metadata": {},
   "outputs": [],
   "source": [
    "fig, ax = plt.subplots()\n",
    "\n",
    "ax.plot(x, x+1, color=\"blue\", alpha=0.5) # half-transparant\n",
    "ax.plot(x, x+2, color=\"#8B008B\")        # RGB hex code\n",
    "ax.plot(x, x+3, color=\"#FF8C00\")        # RGB hex code "
   ]
  },
  {
   "cell_type": "markdown",
   "id": "149731d1",
   "metadata": {},
   "source": [
    "### Line and marker styles\n",
    "\n",
    "To change the line width, we can use the `linewidth` or `lw` keyword argument. The line style can be selected using the `linestyle` or `ls` keyword arguments:"
   ]
  },
  {
   "cell_type": "code",
   "execution_count": null,
   "id": "fd1c9864",
   "metadata": {},
   "outputs": [],
   "source": [
    "fig, ax = plt.subplots(figsize=(12,6))\n",
    "\n",
    "ax.plot(x, x+1, color=\"red\", linewidth=0.25)\n",
    "ax.plot(x, x+2, color=\"red\", linewidth=0.50)\n",
    "ax.plot(x, x+3, color=\"red\", linewidth=1.00)\n",
    "ax.plot(x, x+4, color=\"red\", linewidth=2.00)\n",
    "\n",
    "# possible linestype options ‘-‘, ‘–’, ‘-.’, ‘:’, ‘steps’\n",
    "ax.plot(x, x+5, color=\"green\", lw=3, linestyle='-')\n",
    "ax.plot(x, x+6, color=\"green\", lw=3, ls='-.')\n",
    "ax.plot(x, x+7, color=\"green\", lw=3, ls=':')\n",
    "\n",
    "# custom dash\n",
    "line, = ax.plot(x, x+8, color=\"black\", lw=1.50)\n",
    "line.set_dashes([5, 10, 15, 10]) # format: line length, space length, ...\n",
    "\n",
    "# possible marker symbols: marker = '+', 'o', '*', 's', ',', '.', '1', '2', '3', '4', ...\n",
    "ax.plot(x, x+ 9, color=\"blue\", lw=3, ls='-', marker='+')\n",
    "ax.plot(x, x+10, color=\"blue\", lw=3, ls='--', marker='o')\n",
    "ax.plot(x, x+11, color=\"blue\", lw=3, ls='-', marker='s')\n",
    "ax.plot(x, x+12, color=\"blue\", lw=3, ls='--', marker='1')\n",
    "\n",
    "# marker size and color\n",
    "ax.plot(x, x+13, color=\"purple\", lw=1, ls='-', marker='o', markersize=2)\n",
    "ax.plot(x, x+14, color=\"purple\", lw=1, ls='-', marker='o', markersize=4)\n",
    "ax.plot(x, x+15, color=\"purple\", lw=1, ls='-', marker='o', markersize=8, markerfacecolor=\"red\")\n",
    "ax.plot(x, x+16, color=\"purple\", lw=1, ls='-', marker='s', markersize=8, \n",
    "        markerfacecolor=\"yellow\", markeredgewidth=3, markeredgecolor=\"green\");"
   ]
  },
  {
   "cell_type": "markdown",
   "id": "12cb4e85",
   "metadata": {},
   "source": [
    "# Special Plot Types\n",
    "\n",
    "There are many specialized plots we can create, such as barplots, histograms, scatter plots, and much more. Most of these type of plots we will actually create using seaborn, a statistical plotting library for Python. But here are a few examples of these type of plots:"
   ]
  },
  {
   "cell_type": "code",
   "execution_count": null,
   "id": "efd39159",
   "metadata": {},
   "outputs": [],
   "source": [
    "plt.scatter(x,y)"
   ]
  },
  {
   "cell_type": "code",
   "execution_count": null,
   "id": "cea2641b",
   "metadata": {},
   "outputs": [],
   "source": [
    "from random import sample\n",
    "data = sample(range(1, 1000), 100)\n",
    "plt.hist(data)"
   ]
  },
  {
   "cell_type": "code",
   "execution_count": null,
   "id": "5d3c9b3c",
   "metadata": {},
   "outputs": [],
   "source": [
    "data = [np.random.normal(0, std, 100) for std in range(1, 4)]\n",
    "\n",
    "# rectangular box plot\n",
    "plt.boxplot(data,vert=True,patch_artist=True);   "
   ]
  },
  {
   "cell_type": "markdown",
   "id": "2a5d2297",
   "metadata": {},
   "source": [
    "# Further reading\n",
    "\n",
    "* http://www.matplotlib.org - The project web page for matplotlib.\n",
    "* http://matplotlib.org/gallery.html - A large gallery showcaseing various types of plots matplotlib can create. Highly recommended! \n",
    "* http://www.loria.fr/~rougier/teaching/matplotlib - A good matplotlib tutorial.\n",
    "* http://scipy-lectures.github.io/matplotlib/matplotlib.html - Another good matplotlib reference."
   ]
  }
 ],
 "metadata": {
  "kernelspec": {
   "display_name": "Python 3 (ipykernel)",
   "language": "python",
   "name": "python3"
  },
  "language_info": {
   "codemirror_mode": {
    "name": "ipython",
    "version": 3
   },
   "file_extension": ".py",
   "mimetype": "text/x-python",
   "name": "python",
   "nbconvert_exporter": "python",
   "pygments_lexer": "ipython3",
   "version": "3.11.5"
  }
 },
 "nbformat": 4,
 "nbformat_minor": 5
}
